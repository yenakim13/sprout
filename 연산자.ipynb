{
  "nbformat": 4,
  "nbformat_minor": 0,
  "metadata": {
    "colab": {
      "name": "연산자.ipynb",
      "provenance": [],
      "include_colab_link": true
    },
    "kernelspec": {
      "name": "python3",
      "display_name": "Python 3"
    }
  },
  "cells": [
    {
      "cell_type": "markdown",
      "metadata": {
        "id": "view-in-github",
        "colab_type": "text"
      },
      "source": [
        "<a href=\"https://colab.research.google.com/github/yenakim13/sprout/blob/master/%EC%97%B0%EC%82%B0%EC%9E%90.ipynb\" target=\"_parent\"><img src=\"https://colab.research.google.com/assets/colab-badge.svg\" alt=\"Open In Colab\"/></a>"
      ]
    },
    {
      "cell_type": "code",
      "metadata": {
        "id": "bjLfXRHPkCVA",
        "colab_type": "code",
        "colab": {}
      },
      "source": [
        "# 연산자 정리\n",
        "# 덧셈(+), 뺄셈(-), 나눗셈(/), 곱셈(*), 몫(//), 나머지(%), 몫,나머지(divmod), 거듭제곱(**), 절댓값(abs), 반올림(round)\n",
        "# 연산 순서는 본래 법칙과 동일"
      ],
      "execution_count": 0,
      "outputs": []
    },
    {
      "cell_type": "code",
      "metadata": {
        "id": "N_raUov-k3Ri",
        "colab_type": "code",
        "outputId": "21e68841-969b-4fe3-8912-56c68151fd65",
        "colab": {
          "base_uri": "https://localhost:8080/",
          "height": 52
        }
      },
      "source": [
        "# 수식 계산\n",
        "print(abs((-100+30)*10/5)) # 나눗셈이 있다면 값이 정수라도 실수로 출력\n",
        "print((555+1928-543)/(2**4)+100)"
      ],
      "execution_count": 0,
      "outputs": [
        {
          "output_type": "stream",
          "text": [
            "140.0\n",
            "221.25\n"
          ],
          "name": "stdout"
        }
      ]
    },
    {
      "cell_type": "code",
      "metadata": {
        "id": "cm9ECg0cl0VD",
        "colab_type": "code",
        "outputId": "1dd0ecb1-7093-43f3-8e87-8d83d4af0d60",
        "colab": {
          "base_uri": "https://localhost:8080/",
          "height": 87
        }
      },
      "source": [
        "# math 모듈 활용하기\n",
        "import math\n",
        "print(math.pi) # 파이\n",
        "print(math.sqrt(25)) # 제곱근\n",
        "print(math.floor(1.5)) # 내림\n",
        "print(math.ceil(0.25)) # 올림"
      ],
      "execution_count": 0,
      "outputs": [
        {
          "output_type": "stream",
          "text": [
            "3.141592653589793\n",
            "5.0\n",
            "1\n",
            "1\n"
          ],
          "name": "stdout"
        }
      ]
    },
    {
      "cell_type": "code",
      "metadata": {
        "id": "A7gXrmmmms5j",
        "colab_type": "code",
        "outputId": "2070aff8-f837-45b9-f53b-fc35bd71206c",
        "colab": {
          "base_uri": "https://localhost:8080/",
          "height": 52
        }
      },
      "source": [
        "# 반지름의 길이를 입력받아 구의 겉넓이 구하기\n",
        "radius=int(input('반지름의 길이를 입력하세요:'))\n",
        "print('구의 겉넓이는 {0}'.format(4*math.pi*(radius**2)))"
      ],
      "execution_count": 0,
      "outputs": [
        {
          "output_type": "stream",
          "text": [
            "반지름의 길이를 입력하세요:8\n",
            "구의 겉넓이는 804.247719318987\n"
          ],
          "name": "stdout"
        }
      ]
    }
  ]
}