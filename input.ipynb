{
  "nbformat": 4,
  "nbformat_minor": 0,
  "metadata": {
    "colab": {
      "name": "input.ipynb",
      "provenance": [],
      "include_colab_link": true
    },
    "kernelspec": {
      "name": "python3",
      "display_name": "Python 3"
    }
  },
  "cells": [
    {
      "cell_type": "markdown",
      "metadata": {
        "id": "view-in-github",
        "colab_type": "text"
      },
      "source": [
        "<a href=\"https://colab.research.google.com/github/yenakim13/sprout/blob/master/input.ipynb\" target=\"_parent\"><img src=\"https://colab.research.google.com/assets/colab-badge.svg\" alt=\"Open In Colab\"/></a>"
      ]
    },
    {
      "cell_type": "code",
      "metadata": {
        "id": "Lp4BdnuSQpao",
        "colab_type": "code",
        "outputId": "885a0c19-4c6d-46c9-ea9c-606a46404f52",
        "colab": {
          "base_uri": "https://localhost:8080/",
          "height": 52
        }
      },
      "source": [
        "# input을 이용하여 입력받기\n",
        "name=input()\n",
        "print('만나서 반갑습니다. %s씨!' % name)"
      ],
      "execution_count": 0,
      "outputs": [
        {
          "output_type": "stream",
          "text": [
            "김덕배\n",
            "만나서 반갑습니다. 김덕배씨!\n"
          ],
          "name": "stdout"
        }
      ]
    },
    {
      "cell_type": "code",
      "metadata": {
        "id": "Tnocyd8ZRFGa",
        "colab_type": "code",
        "outputId": "b1a1de00-c0e8-46b4-99ea-4984bd5984bb",
        "colab": {
          "base_uri": "https://localhost:8080/",
          "height": 52
        }
      },
      "source": [
        "# 입력 받을 때 안내문 출력하기\n",
        "name=input('이름을 입력하세요:')\n",
        "print('만나서 반갑습니다. %s씨!' % name)"
      ],
      "execution_count": 0,
      "outputs": [
        {
          "output_type": "stream",
          "text": [
            "이름을 입력하세요:김덕배\n",
            "만나서 반갑습니다. 김덕배씨!\n"
          ],
          "name": "stdout"
        }
      ]
    },
    {
      "cell_type": "code",
      "metadata": {
        "id": "NWUIWrGvRS5s",
        "colab_type": "code",
        "outputId": "a7a4036f-7016-4c8c-9048-825d1e3ea3f3",
        "colab": {
          "base_uri": "https://localhost:8080/",
          "height": 52
        }
      },
      "source": [
        "# 여러 변수 한 번에 입력 받기\n",
        "hour,minute,second=input('시간을 입력하세요:').split(':')\n",
        "print(\"지금은 {0}시 {1}분 {2}초입니다.\".format(hour,minute,second))"
      ],
      "execution_count": 0,
      "outputs": [
        {
          "output_type": "stream",
          "text": [
            "시간을 입력하세요:19:41:30\n",
            "지금은 19시 41분 30초입니다.\n"
          ],
          "name": "stdout"
        }
      ]
    },
    {
      "cell_type": "code",
      "metadata": {
        "id": "nAvecPeGT-rZ",
        "colab_type": "code",
        "outputId": "88c086ec-393e-431a-9ef3-80f48962fd5f",
        "colab": {
          "base_uri": "https://localhost:8080/",
          "height": 52
        }
      },
      "source": [
        "# 정수형으로 변환하기\n",
        "hour,minute,second=input('시간을 입력하세요:').split(':')\n",
        "hour=int(hour)\n",
        "minute=int(minute)\n",
        "second=int(second)\n",
        "print(\"{0}초입니다.\".format(3600*hour+60*minute+second))"
      ],
      "execution_count": 0,
      "outputs": [
        {
          "output_type": "stream",
          "text": [
            "시간을 입력하세요:7:15:23\n",
            "26123초입니다.\n"
          ],
          "name": "stdout"
        }
      ]
    },
    {
      "cell_type": "code",
      "metadata": {
        "id": "s9CFF9CAS7Le",
        "colab_type": "code",
        "outputId": "0b324580-489d-4894-c9c3-4069fe489571",
        "colab": {
          "base_uri": "https://localhost:8080/",
          "height": 52
        }
      },
      "source": [
        "# map 이용해서 한 번에 정수형으로 변환하기\n",
        "hour,minute,second=map(int,input('시간을 입력하세요:').split(':'))\n",
        "print(\"{0}초입니다.\".format(3600*hour+60*minute+second))"
      ],
      "execution_count": 0,
      "outputs": [
        {
          "output_type": "stream",
          "text": [
            "시간을 입력하세요:7:15:23\n",
            "26123초입니다.\n"
          ],
          "name": "stdout"
        }
      ]
    }
  ]
}