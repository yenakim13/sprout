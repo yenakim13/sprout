{
  "nbformat": 4,
  "nbformat_minor": 0,
  "metadata": {
    "colab": {
      "name": "if문.ipynb",
      "provenance": [],
      "include_colab_link": true
    },
    "kernelspec": {
      "name": "python3",
      "display_name": "Python 3"
    }
  },
  "cells": [
    {
      "cell_type": "markdown",
      "metadata": {
        "id": "view-in-github",
        "colab_type": "text"
      },
      "source": [
        "<a href=\"https://colab.research.google.com/github/yenakim13/sprout/blob/master/if%EB%AC%B8.ipynb\" target=\"_parent\"><img src=\"https://colab.research.google.com/assets/colab-badge.svg\" alt=\"Open In Colab\"/></a>"
      ]
    },
    {
      "cell_type": "code",
      "metadata": {
        "id": "jAtWrRSJoZMA",
        "colab_type": "code",
        "outputId": "05d848d0-c62a-4a1c-feb0-2cde828cb16a",
        "colab": {
          "base_uri": "https://localhost:8080/",
          "height": 87
        }
      },
      "source": [
        "# 간단한 계산기 만들기\n",
        "\n",
        "first_num=int(input(\"첫 번째 수를 입력하세요:\"))\n",
        "second_num=int(input(\"두 번째 수를 입력하세요:\"))\n",
        "operator=input(\"연산자를 입력하세요:\")\n",
        "if operator==\"+\":\n",
        "  print(first_num+second_num)\n",
        "elif operator==\"-\":\n",
        "  print(first_num-second_num)\n",
        "elif operator==\"*\":\n",
        "  print(first_num*second_num)\n",
        "elif operator==\"/\":\n",
        "  print(first_num/second_num)\n",
        "elif operator==\"//\":\n",
        "  print(first_num//second_num)\n",
        "elif operator==\"%\":\n",
        "  print(first_num%second_num)\n",
        "elif operator==\"**\":\n",
        "  print(first_num**second_num)\n",
        "else:\n",
        "  print(\"계산할 수 없습니다.\")"
      ],
      "execution_count": 0,
      "outputs": [
        {
          "output_type": "stream",
          "text": [
            "첫 번째 수를 입력하세요:5\n",
            "두 번째 수를 입력하세요:2\n",
            "연산자를 입력하세요:**\n",
            "25\n"
          ],
          "name": "stdout"
        }
      ]
    },
    {
      "cell_type": "code",
      "metadata": {
        "id": "zveUJuBRuPYG",
        "colab_type": "code",
        "outputId": "011f5642-6cb1-4f39-90f3-d7659b76629a",
        "colab": {
          "base_uri": "https://localhost:8080/",
          "height": 52
        }
      },
      "source": [
        "# 조금 더 복잡한 계산기 만들기\n",
        "\n",
        "eq=input(\"수식을 입력하세요:\")\n",
        "eval(eq)"
      ],
      "execution_count": 0,
      "outputs": [
        {
          "output_type": "stream",
          "text": [
            "수식을 입력하세요:1+2\n"
          ],
          "name": "stdout"
        },
        {
          "output_type": "execute_result",
          "data": {
            "text/plain": [
              "3"
            ]
          },
          "metadata": {
            "tags": []
          },
          "execution_count": 3
        }
      ]
    },
    {
      "cell_type": "code",
      "metadata": {
        "id": "Wbed3vJ4vl8p",
        "colab_type": "code",
        "outputId": "cef523b2-8c18-467f-c7ef-327a0289a491",
        "colab": {
          "base_uri": "https://localhost:8080/",
          "height": 70
        }
      },
      "source": [
        "# 두 점의 좌표를 입력 받아 두 점이 이루는 사각형이 직사각형인지 정사각형인지 판별하시오.\n",
        "\n",
        "x1,y1=map(int,input(\"첫 번째 좌표를 입력하세요:\").split(','))\n",
        "x2,y2=map(int,input(\"두 번째 좌표를 입력하세요:\").split(','))\n",
        "if abs(x1-x2)==abs(y1-y2):\n",
        "  print(\"정사각형입니다.\")\n",
        "else:\n",
        "  print(\"직사각형입니다.\")"
      ],
      "execution_count": 0,
      "outputs": [
        {
          "output_type": "stream",
          "text": [
            "첫 번째 좌표를 입력하세요:1,1\n",
            "두 번째 좌표를 입력하세요:3,3\n",
            "정사각형입니다.\n"
          ],
          "name": "stdout"
        }
      ]
    },
    {
      "cell_type": "code",
      "metadata": {
        "id": "K1UBD4_Nycxp",
        "colab_type": "code",
        "outputId": "b167f43f-ee76-4a5a-dea8-b86308e6222b",
        "colab": {
          "base_uri": "https://localhost:8080/",
          "height": 105
        }
      },
      "source": [
        "# 국어, 영어, 수학, 과학 점수의 평균이 80점 이상일 때 합격, 이하일 때 불합격을 출력하도록 하시오.\n",
        "\n",
        "korean=int(input(\"국어 점수를 입력하세요:\"))\n",
        "english=int(input(\"영어 점수를 입력하세요:\"))\n",
        "math=int(input(\"수학 점수를 입력하세요:\"))\n",
        "science=int(input(\"과학 점수를 입력하세요:\"))\n",
        "if korean+english+math+science>=320:\n",
        "  print(\"합격입니다.\")\n",
        "else:\n",
        "  print(\"불합격입니다.\")"
      ],
      "execution_count": 0,
      "outputs": [
        {
          "output_type": "stream",
          "text": [
            "국어 점수를 입력하세요:90\n",
            "영어 점수를 입력하세요:50\n",
            "수학 점수를 입력하세요:70\n",
            "과학 점수를 입력하세요:88\n",
            "불합격입니다.\n"
          ],
          "name": "stdout"
        }
      ]
    },
    {
      "cell_type": "code",
      "metadata": {
        "id": "sPq5u0ORzQkT",
        "colab_type": "code",
        "outputId": "5214ee29-5eeb-4ba5-ca60-85d4a4e6e599",
        "colab": {
          "base_uri": "https://localhost:8080/",
          "height": 105
        }
      },
      "source": [
        "# 국어, 영어, 수학, 과학 점수의 평균이 80점 이상이면 합격이지만, 50점 이하인 과목이 있으면 불합격을 출력하시오.\n",
        "\n",
        "korean=int(input(\"국어 점수를 입력하세요:\"))\n",
        "english=int(input(\"영어 점수를 입력하세요:\"))\n",
        "math=int(input(\"수학 점수를 입력하세요:\"))\n",
        "science=int(input(\"과학 점수를 입력하세요:\"))\n",
        "if korean+english+math+science>=320:\n",
        "  if korean>50 and english>50 and math>50 and science>50:\n",
        "    print(\"합격입니다.\")\n",
        "  else:\n",
        "    print(\"불합격입니다.\")\n",
        "else:\n",
        "  print(\"불합격입니다.\")"
      ],
      "execution_count": 0,
      "outputs": [
        {
          "output_type": "stream",
          "text": [
            "국어 점수를 입력하세요:40\n",
            "영어 점수를 입력하세요:90\n",
            "수학 점수를 입력하세요:90\n",
            "과학 점수를 입력하세요:90\n",
            "불합격입니다.\n"
          ],
          "name": "stdout"
        }
      ]
    },
    {
      "cell_type": "code",
      "metadata": {
        "id": "11pW0S8i9Ar6",
        "colab_type": "code",
        "outputId": "adeb57e9-66c6-415f-c0f0-c4aaa65c1e04",
        "colab": {
          "base_uri": "https://localhost:8080/",
          "height": 87
        }
      },
      "source": [
        "# 2차방정식의 계수 a,b,c를 입력받아 근을 구하는 프로그램을 작성하세요.\n",
        "\n",
        "a=int(input(\"a를 입력하세요:\"))\n",
        "b=int(input(\"b를 입력하세요:\"))\n",
        "c=int(input(\"c를 입력하세요:\"))\n",
        "D=b*b-4*a*c\n",
        "if D>0:\n",
        "    x1 = round((-b+D**0.5)/(2*a))\n",
        "    x2 = round((-b-D**0.5)/(2*a))\n",
        "    print(\"x=\", x1, \",\" ,x2)\n",
        "elif D==0:\n",
        "    print(\"x={0}\".format(round(-b/(2*a))))\n",
        "else:print(\"근이 없습니다.\")"
      ],
      "execution_count": 0,
      "outputs": [
        {
          "output_type": "stream",
          "text": [
            "a를 입력하세요:1\n",
            "b를 입력하세요:4\n",
            "c를 입력하세요:4\n",
            "x=-2\n"
          ],
          "name": "stdout"
        }
      ]
    },
    {
      "cell_type": "code",
      "metadata": {
        "id": "YY4WGfabxS4p",
        "colab_type": "code",
        "outputId": "e5c1c531-1f3b-48e0-9f2c-e7ed80864b37",
        "colab": {
          "base_uri": "https://localhost:8080/",
          "height": 70
        }
      },
      "source": [
        "# 전체 게시물이 게시되는 데 필요한 페이지를 구하시오.\n",
        "\n",
        "total=int(input(\"총 게시물의 개수를 입력하세요:\"))\n",
        "num=int(input(\"한 페이지에 게시되는 게시물 수를 입력하세요:\"))\n",
        "page=total//num\n",
        "if total%num==0:\n",
        "  print('필요한 페이지는 %d입니다.' % page)\n",
        "else:\n",
        "  print('필요한 페이지는 {}입니다.'.format(page+1))"
      ],
      "execution_count": 0,
      "outputs": [
        {
          "output_type": "stream",
          "text": [
            "총 게시물의 개수를 입력하세요:100\n",
            "한 페이지에 게시되는 게시물 수를 입력하세요:8\n",
            "필요한 페이지는 13입니다.\n"
          ],
          "name": "stdout"
        }
      ]
    },
    {
      "cell_type": "code",
      "metadata": {
        "id": "ltyDgndz-60M",
        "colab_type": "code",
        "outputId": "9d80e7b4-f92c-4cf0-b3c4-67bd3caaf9f5",
        "colab": {
          "base_uri": "https://localhost:8080/",
          "height": 70
        }
      },
      "source": [
        "# 나이를 입력 받아 나이에 맞게 요금을 차감하고 잔액을 알려주세요.\n",
        "# 어린이(만 7세 이상~12세 이하):300원, 청소년(만 13세 이상~ 18세 이하):720원, 성인(만 19세 이상):1000원\n",
        "\n",
        "money=int(input(\"카드에 충전된 금액을 입력하세요:\"))\n",
        "age = int(input(\"만 나이를 입력하세요:\"))\n",
        "if age<7:\n",
        "    print(\"무료입니다.\")\n",
        "elif 7<=age<13:\n",
        "    if money>=300:\n",
        "      print(\"어린이입니다. 잔액:{}\".format(money-300))\n",
        "    else:\n",
        "      print(\"잔액이 부족합니다.\")\n",
        "elif 13<=age<19:\n",
        "    if money>=720:\n",
        "      print(\"청소년입니다. 잔액:{}\".format(money-720))\n",
        "    else:\n",
        "      print(\"잔액이 부족합니다.\")\n",
        "else:\n",
        "    if money>=1000:\n",
        "      print(\"성인입니다. 잔액:{}\".format(money-1000))\n",
        "    else:\n",
        "      print(\"잔액이 부족합니다.\")"
      ],
      "execution_count": 0,
      "outputs": [
        {
          "output_type": "stream",
          "text": [
            "카드에 충전된 금액을 입력하세요:1000\n",
            "만 나이를 입력하세요:19\n",
            "성인입니다. 잔액:0\n"
          ],
          "name": "stdout"
        }
      ]
    }
  ]
}