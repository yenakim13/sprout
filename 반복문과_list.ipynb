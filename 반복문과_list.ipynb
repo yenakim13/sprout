{
  "nbformat": 4,
  "nbformat_minor": 0,
  "metadata": {
    "colab": {
      "name": "반복문과 list.ipynb",
      "provenance": [],
      "include_colab_link": true
    },
    "kernelspec": {
      "name": "python3",
      "display_name": "Python 3"
    }
  },
  "cells": [
    {
      "cell_type": "markdown",
      "metadata": {
        "id": "view-in-github",
        "colab_type": "text"
      },
      "source": [
        "<a href=\"https://colab.research.google.com/github/yenakim13/sprout/blob/master/%EB%B0%98%EB%B3%B5%EB%AC%B8%EA%B3%BC_list.ipynb\" target=\"_parent\"><img src=\"https://colab.research.google.com/assets/colab-badge.svg\" alt=\"Open In Colab\"/></a>"
      ]
    },
    {
      "cell_type": "code",
      "metadata": {
        "id": "KRrshteeILRu",
        "colab_type": "code",
        "colab": {}
      },
      "source": [
        ""
      ],
      "execution_count": 0,
      "outputs": []
    },
    {
      "cell_type": "code",
      "metadata": {
        "id": "BbNx3GHjM04K",
        "colab_type": "code",
        "outputId": "fe359d13-a757-481b-ae95-46f077b0a891",
        "colab": {
          "base_uri": "https://localhost:8080/",
          "height": 71
        }
      },
      "source": [
        "# 2가지 반복구조\n",
        "# for문, while문\n",
        "# for 변수 in 시퀀스:\n",
        "for i in [0,1,2]:\n",
        "  print('안녕하세요! for문을 공부 중입니다.')\n",
        "# range([start,stop,step])\n",
        "# default 값=range([0,stop,1])=range(stop)\n",
        "# stop보다 하나 전까지 생성\n"
      ],
      "execution_count": 0,
      "outputs": [
        {
          "output_type": "stream",
          "text": [
            "안녕하세요! for문을 공부 중입니다.\n",
            "안녕하세요! for문을 공부 중입니다.\n",
            "안녕하세요! for문을 공부 중입니다.\n"
          ],
          "name": "stdout"
        }
      ]
    },
    {
      "cell_type": "code",
      "metadata": {
        "id": "NJ2Uy24kSlsI",
        "colab_type": "code",
        "outputId": "ae02322c-4fe2-4cad-d9af-09381045c541",
        "colab": {
          "base_uri": "https://localhost:8080/",
          "height": 53
        }
      },
      "source": [
        "# 합계 구하기\n",
        "# 1부터 사용자가 입력한 정수 n까지 더해서 (1+...+n)을 계산하는 프로그램을 작성하시오.\n",
        "n=int(input('어디까지 더할 것인지 입력하시오:'))\n",
        "x=0\n",
        "for i in range(1,n+1):\n",
        "  x=x+i\n",
        "print(\"1부터 {0}까지의 합은={1}\".format(n,x))"
      ],
      "execution_count": 0,
      "outputs": [
        {
          "output_type": "stream",
          "text": [
            "어디까지 더할 것인지 입력하시오:10\n",
            "1부터 10까지의 합은=55\n"
          ],
          "name": "stdout"
        }
      ]
    },
    {
      "cell_type": "code",
      "metadata": {
        "id": "wH0vX4lAdmZh",
        "colab_type": "code",
        "outputId": "b3290e32-b101-4811-fda2-07a3888ec139",
        "colab": {
          "base_uri": "https://localhost:8080/",
          "height": 125
        }
      },
      "source": [
        "# 중첩 for문을 사용하여 두 개의 주사위를 동시에 던져서 합이 6이 되는 경우의 수를 구하는 프로그램을 작성하시오.\n",
        "k=0\n",
        "for m in range(1,7):\n",
        "  for n in range(1,7):\n",
        "    if m+n==6:\n",
        "      k=k+1\n",
        "      print(m,n)\n",
        "print(\"2개의 주사위 합이 6이 되는 경우의 수:{}개\".format(k))"
      ],
      "execution_count": 0,
      "outputs": [
        {
          "output_type": "stream",
          "text": [
            "1 5\n",
            "2 4\n",
            "3 3\n",
            "4 2\n",
            "5 1\n",
            "2개의 주사위 합이 6이 되는 경우의 수:5개\n"
          ],
          "name": "stdout"
        }
      ]
    },
    {
      "cell_type": "code",
      "metadata": {
        "id": "Sfyq-O3SjhDb",
        "colab_type": "code",
        "outputId": "55f93d6b-b905-4694-8f52-3ab70349af81",
        "colab": {
          "base_uri": "https://localhost:8080/",
          "height": 35
        }
      },
      "source": [
        "for i in range(10):\n",
        "  print(i,end=' ')"
      ],
      "execution_count": 0,
      "outputs": [
        {
          "output_type": "stream",
          "text": [
            "0 1 2 3 4 5 6 7 8 9 "
          ],
          "name": "stdout"
        }
      ]
    },
    {
      "cell_type": "code",
      "metadata": {
        "id": "75vl6EUxlgQk",
        "colab_type": "code",
        "outputId": "4cc18fb8-07d3-469f-bbab-1982d54ec189",
        "colab": {
          "base_uri": "https://localhost:8080/",
          "height": 35
        }
      },
      "source": [
        "i=0\n",
        "while i<10:\n",
        "  print(i,end=' ')\n",
        "  i=i+12"
      ],
      "execution_count": 0,
      "outputs": [
        {
          "output_type": "stream",
          "text": [
            "0 1 2 3 4 5 6 7 8 9 "
          ],
          "name": "stdout"
        }
      ]
    },
    {
      "cell_type": "code",
      "metadata": {
        "id": "kmxYZSkco3J0",
        "colab_type": "code",
        "outputId": "03560c10-c376-4b98-d376-876ec2efd9f3",
        "colab": {
          "base_uri": "https://localhost:8080/",
          "height": 53
        }
      },
      "source": [
        "n=int(input('어디까지 더할 것인지 입력하시오:'))\n",
        "i=1;sum=0\n",
        "while i<=n:\n",
        "  sum=sum+i\n",
        "  i=i+1\n",
        "print(\"1부터 {0}까지의 합은={1}\".format(n,sum))"
      ],
      "execution_count": 0,
      "outputs": [
        {
          "output_type": "stream",
          "text": [
            "어디까지 더할 것인지 입력하시오:10\n",
            "1부터 10까지의 합은=55\n"
          ],
          "name": "stdout"
        }
      ]
    },
    {
      "cell_type": "code",
      "metadata": {
        "id": "azpJhR7tEm09",
        "colab_type": "code",
        "outputId": "436a25d6-1236-4a1c-ba9a-190a22f41812",
        "colab": {
          "base_uri": "https://localhost:8080/",
          "height": 233
        }
      },
      "source": [
        "# 집합형 자료구조\n",
        "# List,Tuple\n",
        "# Indexing(0,1,2,3,4(왼쪽부터), -1,-2,-3,-4,-5(오른쪽부터))\n",
        "washing_list=[\"soap\",\"towel\",\"shampoo\"]\n",
        "print(shopping_list[0:2]) # 슬라이싱 - 리스트이름[시작:끝+1]\n",
        "# 빈 리스트 만들기(list(),[])\n",
        "l1=[5,\"k\",\"abcd\",[\"mn\",\"wq\"]]\n",
        "l2=[1,2,3]\n",
        "# 리스트 인덱싱\n",
        "print(l1[2])\n",
        "print(l1[-1])\n",
        "# 리스트 슬라이싱\n",
        "print(l1[1:3])\n",
        "print(l1[1:-2])\n",
        "print(l1[1:])\n",
        "print(l1[:3])\n",
        "# 리스트 연산\n",
        "print(l1+l2)\n",
        "print(l1*3)\n",
        "# 두번째 위치한 한 개의 값을 변경하는 방법\n",
        "aa=[10,20,30]\n",
        "aa[1]=100\n",
        "print(aa)\n",
        "# 값 한 개를 두 개로 변경\n",
        "aa=[10,20,30]\n",
        "aa[1:2]=[200,201]\n",
        "print(aa)\n",
        "aa[1]=[100,101] # 리스트채로\n",
        "print(aa)\n",
        "# 리스트 삭제(del)"
      ],
      "execution_count": 0,
      "outputs": [
        {
          "output_type": "stream",
          "text": [
            "['milk', 'egg']\n",
            "abcd\n",
            "['ab', 'cd']\n",
            "['a', 'abcd']\n",
            "['a']\n",
            "['a', 'abcd', ['ab', 'cd']]\n",
            "[1, 'a', 'abcd']\n",
            "[1, 'a', 'abcd', ['ab', 'cd'], 1, 2, 3]\n",
            "[1, 'a', 'abcd', ['ab', 'cd'], 1, 'a', 'abcd', ['ab', 'cd'], 1, 'a', 'abcd', ['ab', 'cd']]\n",
            "[10, 100, 30]\n",
            "[10, 200, 201, 30]\n",
            "[10, [100, 101], 201, 30]\n"
          ],
          "name": "stdout"
        }
      ]
    },
    {
      "cell_type": "code",
      "metadata": {
        "id": "EvrRbLnHLqBn",
        "colab_type": "code",
        "colab": {}
      },
      "source": [
        "# a.append(요소) 리스트 제일 뒤에 항목 추가\n",
        "# a.insert(인덱스, 요소) 지정된 위치에 항목을 삽입\n",
        "# a.extend(리스트) 리스트 뒤에 리스트 추가\n",
        "# a.remove(요소값) 리스트에서 지정한 값 제거(여러 개일 경우 가장 앞에 있는 값)\n",
        "# a.pop(인덱스) 리스트에서 지정된 위치의 항목을 빼내고 빼낸 항목 삭제(괄호 안에 지정 하지 않으면 마지막 값)\n",
        "# a.index(요소값) 지정한 값을 찾아서 그 위치를 반환\n",
        "# a.count(요소값) 리스트에서 찾을 값의 개수를 셈\n",
        "# a.sort() 항목 정렬\n",
        "# a.reverse() 항목을 역순으로 정렬\n",
        "# del(리스트이름[인덱스]) 리스트에서 해당 위치의 항목을 삭제\n",
        "# len(리스트이름) 리스트에 포함된 전체 항목의 개수를 셈"
      ],
      "execution_count": 0,
      "outputs": []
    },
    {
      "cell_type": "code",
      "metadata": {
        "id": "5o4KP6GSaLlQ",
        "colab_type": "code",
        "outputId": "57089aeb-0aee-44b5-f933-c0888b626705",
        "colab": {
          "base_uri": "https://localhost:8080/",
          "height": 107
        }
      },
      "source": [
        "# 리스트 만들고 for 문을 이용하여 한 줄에 하나씩 출력하기\n",
        "game=['COC','WOW','LOL',\"Starcraft\",'Lineage']\n",
        "for i in game:\n",
        "  print(game.index(i),i)"
      ],
      "execution_count": 0,
      "outputs": [
        {
          "output_type": "stream",
          "text": [
            "0 COC\n",
            "1 WOW\n",
            "2 LOL\n",
            "3 Starcraft\n",
            "4 Lineage\n"
          ],
          "name": "stdout"
        }
      ]
    },
    {
      "cell_type": "code",
      "metadata": {
        "id": "yXhcTDuYbgNW",
        "colab_type": "code",
        "outputId": "5a9facce-d5e0-48fd-8e26-3b92091aa65f",
        "colab": {
          "base_uri": "https://localhost:8080/",
          "height": 107
        }
      },
      "source": [
        "# while문과 len을 이용하여 출력하기\n",
        "game=['COC','WOW','LOL',\"Starcraft\",'Lineage']\n",
        "i=0\n",
        "while i<len(game):\n",
        "  print(i,game[i])\n",
        "  i=i+1"
      ],
      "execution_count": 0,
      "outputs": [
        {
          "output_type": "stream",
          "text": [
            "0 COC\n",
            "1 WOW\n",
            "2 LOL\n",
            "3 Starcraft\n",
            "4 Lineage\n"
          ],
          "name": "stdout"
        }
      ]
    },
    {
      "cell_type": "code",
      "metadata": {
        "id": "iHCt4tEtbxml",
        "colab_type": "code",
        "outputId": "6aa71573-bfcb-40b3-f037-f0c21df1b4f6",
        "colab": {
          "base_uri": "https://localhost:8080/",
          "height": 35
        }
      },
      "source": [
        "# 리스트 바꾸기\n",
        "game=['COC','WOW','LOL',\"Starcraft\",'Lineage']\n",
        "game[3:]=['Overwatch','Clashroyal']\n",
        "print(game)"
      ],
      "execution_count": 0,
      "outputs": [
        {
          "output_type": "stream",
          "text": [
            "['COC', 'WOW', 'LOL', 'Overwatch', 'Clashroyal']\n"
          ],
          "name": "stdout"
        }
      ]
    },
    {
      "cell_type": "code",
      "metadata": {
        "id": "ybx1H9fqm7Rx",
        "colab_type": "code",
        "outputId": "1e569336-b818-4b65-f6d4-ba36b05ccce4",
        "colab": {
          "base_uri": "https://localhost:8080/",
          "height": 35
        }
      },
      "source": [
        "# 추가하기\n",
        "game=['COC','WOW','LOL',\"Starcraft\",'Lineage']\n",
        "game.append('Angrybird')\n",
        "print(game)"
      ],
      "execution_count": 0,
      "outputs": [
        {
          "output_type": "stream",
          "text": [
            "['COC', 'WOW', 'LOL', 'Starcraft', 'Lineage', 'Angrybird']\n"
          ],
          "name": "stdout"
        }
      ]
    },
    {
      "cell_type": "code",
      "metadata": {
        "id": "9GWk4rnPnDxa",
        "colab_type": "code",
        "outputId": "c67fa92f-4a9c-4919-f42a-c1c7e5fd26d8",
        "colab": {
          "base_uri": "https://localhost:8080/",
          "height": 35
        }
      },
      "source": [
        "# 가장 큰 값 찾기\n",
        "a=[38,21,53,62,19]\n",
        "\n",
        "for i in range(4):\n",
        "  if a[i]>a[i+1]:\n",
        "    a[i],a[i+1]=a[i+1],a[i]\n",
        "  else:\n",
        "    continue\n",
        "print(a[4])"
      ],
      "execution_count": 0,
      "outputs": [
        {
          "output_type": "stream",
          "text": [
            "62\n"
          ],
          "name": "stdout"
        }
      ]
    },
    {
      "cell_type": "code",
      "metadata": {
        "id": "F49lW6ZwuZCa",
        "colab_type": "code",
        "outputId": "5dbc2de5-05d6-4679-c565-608194512d1e",
        "colab": {
          "base_uri": "https://localhost:8080/",
          "height": 35
        }
      },
      "source": [
        "# 오름차순 정렬\n",
        "a=[38,21,53,62,19]\n",
        "for j in range(4,-1,-1):\n",
        "  for i in range(j):\n",
        "    if a[i]>a[i+1]:\n",
        "      a[i],a[i+1]=a[i+1],a[i]\n",
        "    else:\n",
        "      continue\n",
        "print(a)"
      ],
      "execution_count": 0,
      "outputs": [
        {
          "output_type": "stream",
          "text": [
            "[19, 21, 38, 53, 62]\n"
          ],
          "name": "stdout"
        }
      ]
    },
    {
      "cell_type": "code",
      "metadata": {
        "id": "70AO2WGtvJaS",
        "colab_type": "code",
        "outputId": "b00441d9-032f-4519-d6cc-a982aa12384a",
        "colab": {
          "base_uri": "https://localhost:8080/",
          "height": 125
        }
      },
      "source": [
        "# 점수(0~100)을 입력 받아 리스트를 생성하고 입력 받은 숫자의 개수의 합계와 평균을 출력\n",
        "i=0\n",
        "list=[]\n",
        "while True:\n",
        "  i+=1\n",
        "  score=int(input('점수를 입력하세요 :'))\n",
        "  if 0<=score<=100:\n",
        "    list.append(score)\n",
        "  elif score==-1: # 종료 문자\n",
        "    print('종료 문자를 입력하여 종료합니다.')\n",
        "    break\n",
        "  else:\n",
        "    print('범위에서 벗어났습니다.')\n",
        "    continue\n",
        "i=1\n",
        "total=0\n",
        "while i<=len(list):\n",
        "  total=total+list[i-1]\n",
        "  i+=1\n",
        "print('{0}개 입력. 합계:{1}, 평균:{2}'.format(len(list),total,total/len(list)))"
      ],
      "execution_count": 0,
      "outputs": [
        {
          "output_type": "stream",
          "text": [
            "점수를 입력하세요 :1\n",
            "점수를 입력하세요 :2\n",
            "점수를 입력하세요 :3\n",
            "점수를 입력하세요 :-1\n",
            "종료 문자를 입력하여 종료합니다.\n",
            "3개 입력. 합계:6, 평균:2.0\n"
          ],
          "name": "stdout"
        }
      ]
    },
    {
      "cell_type": "code",
      "metadata": {
        "id": "17JKMyWK01ZD",
        "colab_type": "code",
        "outputId": "73d97d73-b712-470d-cecc-17c2b53af75f",
        "colab": {
          "base_uri": "https://localhost:8080/",
          "height": 107
        }
      },
      "source": [
        "# 별 만들기\n",
        "for j in range(5,0,-1):\n",
        "  print('*'*j)"
      ],
      "execution_count": 0,
      "outputs": [
        {
          "output_type": "stream",
          "text": [
            "*****\n",
            "****\n",
            "***\n",
            "**\n",
            "*\n"
          ],
          "name": "stdout"
        }
      ]
    },
    {
      "cell_type": "code",
      "metadata": {
        "id": "2Sa8Znhe3R1D",
        "colab_type": "code",
        "outputId": "c7511b10-dd42-4a8b-e48f-e49025dec885",
        "colab": {
          "base_uri": "https://localhost:8080/",
          "height": 107
        }
      },
      "source": [
        "# 별 만들기\n",
        "for i in range(1,10,2):\n",
        "  print('{:^9}'.format('*'*i))"
      ],
      "execution_count": 0,
      "outputs": [
        {
          "output_type": "stream",
          "text": [
            "    *    \n",
            "   ***   \n",
            "  *****  \n",
            " ******* \n",
            "*********\n"
          ],
          "name": "stdout"
        }
      ]
    },
    {
      "cell_type": "code",
      "metadata": {
        "id": "xa5URHyz37k5",
        "colab_type": "code",
        "outputId": "1f4aca39-b545-4914-85b3-cf0f5a155490",
        "colab": {
          "base_uri": "https://localhost:8080/",
          "height": 107
        }
      },
      "source": [
        "# 홀수만 출력하기(한 줄에 다섯개씩)\n",
        "for i in range(1,51,2):\n",
        "  if i%10==9:\n",
        "    print('%2d'%i,end='\\n')\n",
        "  else:\n",
        "    print('%2d'%i,end=' ')"
      ],
      "execution_count": 0,
      "outputs": [
        {
          "output_type": "stream",
          "text": [
            " 1  3  5  7  9\n",
            "11 13 15 17 19\n",
            "21 23 25 27 29\n",
            "31 33 35 37 39\n",
            "41 43 45 47 49\n"
          ],
          "name": "stdout"
        }
      ]
    },
    {
      "cell_type": "code",
      "metadata": {
        "id": "b9d2toqK5TcC",
        "colab_type": "code",
        "outputId": "f7aaf3c1-a2f5-42e5-880b-fc3d053c0a1e",
        "colab": {
          "base_uri": "https://localhost:8080/",
          "height": 125
        }
      },
      "source": [
        "# 피보나치 수열(한 줄에 5개씩)\n",
        "F=[0,1]\n",
        "for i in range(0,30):\n",
        "  a=F[i]+F[i+1]\n",
        "  F.append(a)\n",
        "  if i%5==4:\n",
        "    print('%10d'%F[i],end='\\n')\n",
        "  else:\n",
        "    print('%10d'%F[i],end=' ')"
      ],
      "execution_count": 0,
      "outputs": [
        {
          "output_type": "stream",
          "text": [
            "         0          1          1          2          3\n",
            "         5          8         13         21         34\n",
            "        55         89        144        233        377\n",
            "       610        987       1597       2584       4181\n",
            "      6765      10946      17711      28657      46368\n",
            "     75025     121393     196418     317811     514229\n"
          ],
          "name": "stdout"
        }
      ]
    },
    {
      "cell_type": "code",
      "metadata": {
        "id": "lbhi8zrt9ARk",
        "colab_type": "code",
        "outputId": "1d28d97f-0319-4883-83c9-ddc64c062d87",
        "colab": {
          "base_uri": "https://localhost:8080/",
          "height": 53
        }
      },
      "source": [
        "# 원하는 범위 내의 숫자 중 7의 배수의 합 구하기\n",
        "num1,num2=map(int,input('범위 두 수를 입력하세요:').split(' '))\n",
        "total=0\n",
        "if num1>num2:\n",
        "  for i in range(num2,num1+1):\n",
        "    if i%7==0:\n",
        "      total+=i\n",
        "  print('{0}부터 {1}까지 7의 배수의 합은 {2}'.format(num2,num1,total))\n",
        "if num1<num2:\n",
        "  for i in range(num1,num2+1):\n",
        "    if i%7==0:\n",
        "      total+=i\n",
        "  print('{0}부터 {1}까지 7의 배수의 합은 {2}'.format(num1,num2,total))"
      ],
      "execution_count": 0,
      "outputs": [
        {
          "output_type": "stream",
          "text": [
            "범위 두 수를 입력하세요:1 1000\n",
            "1부터 1000까지 7의 배수의 합은 71071\n"
          ],
          "name": "stdout"
        }
      ]
    },
    {
      "cell_type": "code",
      "metadata": {
        "id": "T7unlcg0_IcF",
        "colab_type": "code",
        "outputId": "d3e30a31-3305-4d96-e16b-c6d3e23f8c56",
        "colab": {
          "base_uri": "https://localhost:8080/",
          "height": 105
        }
      },
      "source": [
        "# 구구단 출력하기\n",
        "while True:\n",
        "  num=int(input('원하는 단수를 입력하세요:'))\n",
        "  if num<0:\n",
        "    print('올바른 범위가 아닙니다. 다시 입력하세요.');continue\n",
        "  elif num==0:\n",
        "    break\n",
        "  else:\n",
        "    for i in range(1,10):\n",
        "      if i%3==0:\n",
        "        print('%3d X%3d =%3d'%(num,i,num*i),end='\\n')\n",
        "      else:\n",
        "        print('%3d X%3d =%3d'%(num,i,num*i),end=' ')"
      ],
      "execution_count": 0,
      "outputs": [
        {
          "output_type": "stream",
          "text": [
            "원하는 단수를 입력하세요:10\n",
            " 10 X  1 = 10  10 X  2 = 20  10 X  3 = 30\n",
            " 10 X  4 = 40  10 X  5 = 50  10 X  6 = 60\n",
            " 10 X  7 = 70  10 X  8 = 80  10 X  9 = 90\n",
            "원하는 단수를 입력하세요:0\n"
          ],
          "name": "stdout"
        }
      ]
    },
    {
      "cell_type": "code",
      "metadata": {
        "id": "QO_2Uk6t4Dyc",
        "colab_type": "code",
        "outputId": "33716b5c-9e97-4e9b-956b-030ba08353fd",
        "colab": {
          "base_uri": "https://localhost:8080/",
          "height": 107
        }
      },
      "source": [
        "# 수열 계산하기\n",
        "num1=int(input('첫 번째 숫자 입력:'))\n",
        "num2=int(input('두 번째 숫자 입력:'))\n",
        "step=int(input('증가 값 입력:'))\n",
        "list=[]\n",
        "total=0\n",
        "if num1<num2:\n",
        "  for i in range(num1,num2+1,step):\n",
        "    total=total+i\n",
        "    list.append(i)\n",
        "else:\n",
        "  for i in range(num1,num2-1,step):\n",
        "    total=total+i\n",
        "    list.append(i)\n",
        "for i in list:\n",
        "  if i==num2:\n",
        "    print('{0}={1}입니다.'.format(i,total),end='')\n",
        "  else:\n",
        "    print('{}+'.format(i),end='')"
      ],
      "execution_count": 0,
      "outputs": [
        {
          "output_type": "stream",
          "text": [
            "첫 번째 숫자 입력:1\n",
            "두 번째 숫자 입력:100\n",
            "증가 값 입력:3\n",
            "1+4+7+10+13+16+19+22+25+28+31+34+37+40+43+46+49+52+55+58+61+64+67+70+73+76+79+82+85+88+91+94+97+100=1717입니다."
          ],
          "name": "stdout"
        }
      ]
    },
    {
      "cell_type": "code",
      "metadata": {
        "id": "8VOQRbvv-psu",
        "colab_type": "code",
        "outputId": "81679d5f-6eb8-46cd-88a6-f15f3e2ee881",
        "colab": {
          "base_uri": "https://localhost:8080/",
          "height": 158
        }
      },
      "source": [
        "# 정수를 입력 받아 입력한 정수의 약수를 모두 출력하고, 그 개수를 알려주는 프로그램 만들기\n",
        "# 0을 입력할 때까지 반복\n",
        "\n",
        "while True:\n",
        "  num=int(input('정수를 입력하세요:'))\n",
        "  if num==0:\n",
        "    print('반복문을 종료합니다.');break\n",
        "  elif num>0:\n",
        "    k=0\n",
        "    for i in range(1,num+1):\n",
        "      if num%i==0:\n",
        "        print(i,end=' ')\n",
        "        k+=1\n",
        "    print('\\n{0}의 약수의 개수는 {1}개 입니다.'.format(num,k))\n",
        "  else:\n",
        "    print('잘못된 범위입니다.');continue"
      ],
      "execution_count": 0,
      "outputs": [
        {
          "output_type": "stream",
          "text": [
            "정수를 입력하세요:10\n",
            "1 2 5 10 \n",
            "10의 약수의 개수는 4개 입니다.\n",
            "정수를 입력하세요:20\n",
            "1 2 4 5 10 20 \n",
            "20의 약수의 개수는 6개 입니다.\n",
            "정수를 입력하세요:0\n",
            "반복문을 종료합니다.\n"
          ],
          "name": "stdout"
        }
      ]
    },
    {
      "cell_type": "code",
      "metadata": {
        "id": "ODasZdxAA_Vm",
        "colab_type": "code",
        "outputId": "85cf5b64-0791-4cbf-a675-5d4672354541",
        "colab": {
          "base_uri": "https://localhost:8080/",
          "height": 122
        }
      },
      "source": [
        "# 양의 정수를 입력 받아 그 수가 소수인지 아닌지를 판별하는 프로그램 작성하기\n",
        "while True:\n",
        "  num=int(input('양의 정수를 입력하시오(0은 종료):'))\n",
        "  if num==0:\n",
        "    print('반복문을 종료합니다.');break\n",
        "  elif num>0:\n",
        "    k=0\n",
        "    for i in range(1,num):\n",
        "      if num%i==0:\n",
        "        k+=1\n",
        "    if k==0:\n",
        "      print('{}은 소수입니다.'.format(num))\n",
        "    else:\n",
        "      print('{}은 소수가 아닙니다.'.format(num))\n",
        "  else:\n",
        "    print('잘못된 입력입니다.');continue"
      ],
      "execution_count": 0,
      "outputs": [
        {
          "output_type": "stream",
          "text": [
            "양의 정수를 입력하시오(0은 종료):7\n",
            "7은 소수가 아닙니다.\n",
            "양의 정수를 입력하시오(0은 종료):1\n",
            "1은 소수입니다.\n",
            "양의 정수를 입력하시오(0은 종료):0\n",
            "반복문을 종료합니다.\n"
          ],
          "name": "stdout"
        }
      ]
    },
    {
      "cell_type": "code",
      "metadata": {
        "id": "yBpJoUaWDudb",
        "colab_type": "code",
        "outputId": "51894342-c286-463c-af8a-c1266af719bb",
        "colab": {
          "base_uri": "https://localhost:8080/",
          "height": 34
        }
      },
      "source": [
        "# 1부터 10000까지 8이 나오는 횟수 구하기\n",
        "list=[]\n",
        "for i in range(1,10001):\n",
        "  list.append(i)\n",
        "list=str(list)\n",
        "num=list.count('8')\n",
        "print(num)"
      ],
      "execution_count": 20,
      "outputs": [
        {
          "output_type": "stream",
          "text": [
            "4000\n"
          ],
          "name": "stdout"
        }
      ]
    }
  ]
}