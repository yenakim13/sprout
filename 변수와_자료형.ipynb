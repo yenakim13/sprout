{
  "nbformat": 4,
  "nbformat_minor": 0,
  "metadata": {
    "colab": {
      "name": "변수와 자료형.ipynb",
      "provenance": [],
      "include_colab_link": true
    },
    "kernelspec": {
      "name": "python3",
      "display_name": "Python 3"
    }
  },
  "cells": [
    {
      "cell_type": "markdown",
      "metadata": {
        "id": "view-in-github",
        "colab_type": "text"
      },
      "source": [
        "<a href=\"https://colab.research.google.com/github/yenakim13/sprout/blob/master/%EB%B3%80%EC%88%98%EC%99%80_%EC%9E%90%EB%A3%8C%ED%98%95.ipynb\" target=\"_parent\"><img src=\"https://colab.research.google.com/assets/colab-badge.svg\" alt=\"Open In Colab\"/></a>"
      ]
    },
    {
      "cell_type": "code",
      "metadata": {
        "id": "-N0K0kv8c_DA",
        "colab_type": "code",
        "colab": {}
      },
      "source": [
        "# 변수에 값 할당하기(변수=값)\n",
        "\n",
        "a=1\n",
        "b=0.05\n",
        "c=None"
      ],
      "execution_count": 0,
      "outputs": []
    },
    {
      "cell_type": "code",
      "metadata": {
        "id": "xeVbtTxydTWq",
        "colab_type": "code",
        "outputId": "94cc241c-6ae6-422c-d463-70073857fb51",
        "colab": {
          "base_uri": "https://localhost:8080/",
          "height": 105
        }
      },
      "source": [
        "# 변수의 자료형 알아보기\n",
        "a=1\n",
        "b=0.05\n",
        "c=None\n",
        "d=True\n",
        "e='Python'\n",
        "print(type(a)) # 정수\n",
        "print(type(b)) # 실수\n",
        "print(type(c)) # 할당하지 않음(빈 변수)\n",
        "print(type(d)) # 불\n",
        "print(type(e)) # 문자"
      ],
      "execution_count": 0,
      "outputs": [
        {
          "output_type": "stream",
          "text": [
            "<class 'int'>\n",
            "<class 'float'>\n",
            "<class 'NoneType'>\n",
            "<class 'bool'>\n",
            "<class 'str'>\n"
          ],
          "name": "stdout"
        }
      ]
    },
    {
      "cell_type": "code",
      "metadata": {
        "id": "eBaS6CI1dpzn",
        "colab_type": "code",
        "colab": {}
      },
      "source": [
        "# 여러 변수에 값 할당하기\n",
        "a=b=c=0 # a=0;b=0;c=0\n",
        "d,e,f=\"디\",True,8 # d=\"디\";e=True;f=8"
      ],
      "execution_count": 0,
      "outputs": []
    },
    {
      "cell_type": "code",
      "metadata": {
        "id": "TmBrcJpMfDZZ",
        "colab_type": "code",
        "outputId": "e228416a-2c7f-419e-efca-473259f60d3d",
        "colab": {
          "base_uri": "https://localhost:8080/",
          "height": 70
        }
      },
      "source": [
        "# 변수 값 교환하기\n",
        "x=10;y=20\n",
        "print(x,y)\n",
        "z=x # 변수 하나 더 사용하기\n",
        "x=y\n",
        "y=z\n",
        "print(x,y)\n",
        "x,y=y,x # 변수 더 사용하지 않고 교환\n",
        "print(x,y)"
      ],
      "execution_count": 0,
      "outputs": [
        {
          "output_type": "stream",
          "text": [
            "10 20\n",
            "20 10\n",
            "10 20\n"
          ],
          "name": "stdout"
        }
      ]
    },
    {
      "cell_type": "code",
      "metadata": {
        "id": "xZmmjsINfzSH",
        "colab_type": "code",
        "outputId": "844696e8-9b64-4887-910f-895e82300bba",
        "colab": {
          "base_uri": "https://localhost:8080/",
          "height": 70
        }
      },
      "source": [
        "# 정수를 표현하는 방법(2진수, 8진수, 16진수)\n",
        "# 2진수:숫자 앞에 0b를 붙임\n",
        "# 8진수:숫자 앞에 0o를 붙임\n",
        "# 16진수:숫자 앞에 0x를 붙임\n",
        "\n",
        "# 진수 변환\n",
        "# 2진수변환(bin), 8진수변환(oct), 10진수변환(int), 16진수변환(hex)\n",
        "num=0b1000010101001101\n",
        "print(oct(num))\n",
        "print(int(num))\n",
        "print(hex(num))"
      ],
      "execution_count": 0,
      "outputs": [
        {
          "output_type": "stream",
          "text": [
            "0o102515\n",
            "34125\n",
            "0x854d\n"
          ],
          "name": "stdout"
        }
      ]
    }
  ]
}