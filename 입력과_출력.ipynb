{
  "nbformat": 4,
  "nbformat_minor": 0,
  "metadata": {
    "colab": {
      "name": "입력과 출력.ipynb",
      "provenance": [],
      "authorship_tag": "ABX9TyPZduScHl9x/yde+P6KGynE",
      "include_colab_link": true
    },
    "kernelspec": {
      "name": "python3",
      "display_name": "Python 3"
    }
  },
  "cells": [
    {
      "cell_type": "markdown",
      "metadata": {
        "id": "view-in-github",
        "colab_type": "text"
      },
      "source": [
        "<a href=\"https://colab.research.google.com/github/yenakim13/sprout/blob/master/%EC%9E%85%EB%A0%A5%EA%B3%BC_%EC%B6%9C%EB%A0%A5.ipynb\" target=\"_parent\"><img src=\"https://colab.research.google.com/assets/colab-badge.svg\" alt=\"Open In Colab\"/></a>"
      ]
    },
    {
      "cell_type": "code",
      "metadata": {
        "id": "_Q25-5ANr16p",
        "colab_type": "code",
        "colab": {}
      },
      "source": [
        "# 표준 입력:키보드로 입력\n",
        "# 표준 출력:모니터로 출력\n",
        "# 콘솔:키보드와 모니터\n",
        "# 입력:input()\n",
        "# 출력:output()\n",
        "# 읽기:read(), readline(), readlines()\n",
        "# 쓰기:write(), writelines()"
      ],
      "execution_count": 0,
      "outputs": []
    },
    {
      "cell_type": "code",
      "metadata": {
        "id": "go3Zzd10E8NO",
        "colab_type": "code",
        "colab": {}
      },
      "source": [
        "# 파일 입출력 과정\n",
        "# 1. 파일 열기(open())\n",
        "# 변수명=open('파일명','모드')\n",
        "# 모드의 default 값은 r이다.\n",
        "# 모드:r(읽기), w(덮어쓰기), r+(읽기/쓰기 겸용), a(이어쓰기), t(텍스트), b(바이너리)\n",
        "# 2. 파일 처리\n",
        "# 3. 파일 닫기\n",
        "# 변수명.close()"
      ],
      "execution_count": 0,
      "outputs": []
    },
    {
      "cell_type": "code",
      "metadata": {
        "id": "9NW2mcz8JYtD",
        "colab_type": "code",
        "colab": {}
      },
      "source": [
        "# 파일을 이용한 입력\n",
        "# file=open('파일경로','모드','encoding='인코딩')\n",
        "# r=file.read() read로 읽기\n",
        "# r=file.readline() 한 행씩 읽기(파일의 행 개수만큼 반복해야 함)\n",
        "# r=file.readlines() 한 번에 통째로 읽어서 리스트에 저장\n",
        "# print(r)\n",
        "# file.close()\n",
        "\n",
        "# colab에서는 이 방식으로 읽어올 수 없어 주석으로만 남긴다."
      ],
      "execution_count": 0,
      "outputs": []
    },
    {
      "cell_type": "code",
      "metadata": {
        "id": "nXGuoA0MNi_U",
        "colab_type": "code",
        "colab": {}
      },
      "source": [
        "# readline() 반복하기\n",
        "# r=file.readline()\n",
        "# while r!='':\n",
        "#   print(r,end='')\n",
        "#   r=file.readline()"
      ],
      "execution_count": 0,
      "outputs": []
    },
    {
      "cell_type": "code",
      "metadata": {
        "id": "3V4I4e5YRQqP",
        "colab_type": "code",
        "colab": {}
      },
      "source": [
        "# readlines()로 한 줄씩 출력하기\n",
        "# li=file.readlines()\n",
        "# for i in li:\n",
        "#     print(li,end='')\n",
        "# file.close()"
      ],
      "execution_count": 0,
      "outputs": []
    },
    {
      "cell_type": "code",
      "metadata": {
        "id": "BhKznvZoTGv_",
        "colab_type": "code",
        "colab": {}
      },
      "source": [
        "# os모듈 os.path.exists(파일명)으로 없는 파일을 열려고 할 때 오류 방지\n",
        "# open 전에 if os.path.exists(파일명)을 입력하면 파일이 있을 때만 실행된다."
      ],
      "execution_count": 0,
      "outputs": []
    },
    {
      "cell_type": "code",
      "metadata": {
        "id": "dTDyHBwWXvKo",
        "colab_type": "code",
        "colab": {}
      },
      "source": [
        "import os\n",
        "# infilename=input('입력 파일 이름:')\n",
        "# outfilename=input('출력 파일 이름:')\n",
        "# if os.path.exsits(infilename):\n",
        "#     infile=open(infilename,'r')\n",
        "#     outfile=open(outfilename,'w')\n",
        "#     s=infile.read()\n",
        "#     outfile.write(s)\n",
        "#     infile.close()\n",
        "#     outfile.close()\n",
        "#     print('%s -> %s 복사 완료'%(infilename,outfilename))\n",
        "# else:\n",
        "#     print('%s 파일이 없습니다.'%infilename)"
      ],
      "execution_count": 0,
      "outputs": []
    },
    {
      "cell_type": "code",
      "metadata": {
        "id": "dO09zOrmsL2M",
        "colab_type": "code",
        "colab": {}
      },
      "source": [
        "# 파일을 이용한 출력\n",
        "# 한 줄씩 파일에 쓰기(덮어쓰기, w)\n",
        "#outfile= open(“c:/test/data.txt\", “w“, encoding=“utf-8”)\n",
        "# while True:\n",
        "# s = input(\"내용입력: \")\n",
        "# if s != \"\":\n",
        "# outfile.write(s+\"\\n\")\n",
        "# else:\n",
        "# break\n",
        "# outfile.close()"
      ],
      "execution_count": 0,
      "outputs": []
    },
    {
      "cell_type": "code",
      "metadata": {
        "id": "GaIlEcOxsNSl",
        "colab_type": "code",
        "colab": {}
      },
      "source": [
        "# 파일에 이어쓰기(a)\n",
        "# outfile= open(“c:/test/data.txt\", “a“, encoding=“utf-8”)\n",
        "# outfile.write(“Good!!\\n”)\n",
        "# infile.close()"
      ],
      "execution_count": 0,
      "outputs": []
    },
    {
      "cell_type": "code",
      "metadata": {
        "id": "Ck_YAYqJZira",
        "colab_type": "code",
        "outputId": "f89cf1b7-ea3d-4d99-9fae-e4b58a9664f4",
        "colab": {
          "base_uri": "https://localhost:8080/",
          "height": 35
        }
      },
      "source": [
        "# 파일 암호화\n",
        "# ord() 함수 : 문자의 고유한 숫자를 알려줌\n",
        "# chr() 함수 : 숫자에 해당하는 문자를 알려줌\n",
        "num=ord('파')\n",
        "ch=chr(54028)\n",
        "print(num,ch)"
      ],
      "execution_count": 0,
      "outputs": [
        {
          "output_type": "stream",
          "text": [
            "54028 파\n"
          ],
          "name": "stdout"
        }
      ]
    },
    {
      "cell_type": "code",
      "metadata": {
        "id": "piNtVQt7Z6Hg",
        "colab_type": "code",
        "outputId": "d1315ffd-85ee-4712-c62f-dadb5e61963e",
        "colab": {
          "base_uri": "https://localhost:8080/",
          "height": 53
        }
      },
      "source": [
        "# 암호화 방법 예\n",
        "# 문자의 고유한 숫자에 100을 더해서 그 숫자에 해당하는 문자로 변환하여 암호화\n",
        "# 해독할 때는 반대 과정을 수행\n",
        "# 암호화\n",
        "num=ord('파')\n",
        "ch=chr(num+100)\n",
        "print(ch)\n",
        "# 암호해독\n",
        "num=ord('퍰')\n",
        "ch=chr(num-100)\n",
        "print(ch)"
      ],
      "execution_count": 0,
      "outputs": [
        {
          "output_type": "stream",
          "text": [
            "퍰\n",
            "파\n"
          ],
          "name": "stdout"
        }
      ]
    },
    {
      "cell_type": "code",
      "metadata": {
        "id": "eGoSjMk5UW-D",
        "colab_type": "code",
        "colab": {}
      },
      "source": [
        "# 철자가 10개 이상인 단어를 찾고 개수를 구하고, 전체 단어의 개수 구하기\n",
        "# a=[]\n",
        "# b=[]\n",
        "# infile=open('C:/Users/nicen/Downloads/words.txt','r')\n",
        "# while True:\n",
        "#     s = infile.readline()\n",
        "#     slist = s.split(' ')\n",
        "#     b.append(len(slist))\n",
        "#     if s!='':\n",
        "#       for i in range(len(slist)):\n",
        "#           if len(slist[i])>=10:\n",
        "#               a.append(slist[i])\n",
        "#               print(slist[i])\n",
        "#     else:\n",
        "#         break\n",
        "# print('총 단어의 개수:',sum(b))\n",
        "# print('10자 이상인 단어의 개수:',len(a))"
      ],
      "execution_count": 0,
      "outputs": []
    },
    {
      "cell_type": "code",
      "metadata": {
        "id": "-qZKfnDCZ_ed",
        "colab_type": "code",
        "colab": {}
      },
      "source": [
        "# 특정 문자가 포함된 단어 찾기\n",
        "# infile=open('C:/Users/nicen/Downloads/word.txt','r')\n",
        "# s = infile.read()\n",
        "# s=s.lower()\n",
        "# slist=s.split(' ')\n",
        "# for i in range(len(slist)):\n",
        "#     if 'c' in slist[i]:\n",
        "#         if '.' in slist[i] or ',' in slist[i]:\n",
        "#             print(slist[i][:-1])\n",
        "#         else:\n",
        "#             print(slist[i])"
      ],
      "execution_count": 0,
      "outputs": []
    },
    {
      "cell_type": "code",
      "metadata": {
        "id": "vWC1lqTLhySH",
        "colab_type": "code",
        "colab": {}
      },
      "source": [
        "# 0:zero...출력하기\n",
        "# outfile=open('outfile.txt','w')\n",
        "# num1=[0,1,2,3,4,5,6,7,8,9,10]\n",
        "# num2=['zero','one','two','three','four','five','six','seven','eight','nine','ten']\n",
        "# for i in range(len(num1)):\n",
        "#   outfile.write('{0}:{1}\\n'.format(num1[i],num2[i]))\n",
        "# outfile.close()"
      ],
      "execution_count": 0,
      "outputs": []
    }
  ]
}