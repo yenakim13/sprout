{
  "nbformat": 4,
  "nbformat_minor": 0,
  "metadata": {
    "colab": {
      "name": "print.ipynb",
      "provenance": [],
      "collapsed_sections": [],
      "include_colab_link": true
    },
    "kernelspec": {
      "name": "python3",
      "display_name": "Python 3"
    }
  },
  "cells": [
    {
      "cell_type": "markdown",
      "metadata": {
        "id": "view-in-github",
        "colab_type": "text"
      },
      "source": [
        "<a href=\"https://colab.research.google.com/github/yenakim13/sprout/blob/master/print.ipynb\" target=\"_parent\"><img src=\"https://colab.research.google.com/assets/colab-badge.svg\" alt=\"Open In Colab\"/></a>"
      ]
    },
    {
      "cell_type": "code",
      "metadata": {
        "id": "OL3rqqmc4VBt",
        "colab_type": "code",
        "outputId": "10e9d3c8-c973-4235-8a2d-f56c4300b2f1",
        "colab": {
          "base_uri": "https://localhost:8080/",
          "height": 70
        }
      },
      "source": [
        "# print문을 이용하여 여러가지 방법으로 출력하기\n",
        "\n",
        "print('Hello, python!') # 작은 따옴표\n",
        "print(\"Hello, python!\") # 큰 따옴표\n",
        "x='Hello, python!' # 변수\n",
        "print(x)"
      ],
      "execution_count": 0,
      "outputs": [
        {
          "output_type": "stream",
          "text": [
            "Hello, python!\n",
            "Hello, python!\n",
            "Hello, python!\n"
          ],
          "name": "stdout"
        }
      ]
    },
    {
      "cell_type": "code",
      "metadata": {
        "id": "mhTO-_p75rV1",
        "colab_type": "code",
        "outputId": "d633d83c-9a56-4df2-e243-6d70966d390a",
        "colab": {
          "base_uri": "https://localhost:8080/",
          "height": 87
        }
      },
      "source": [
        "# print문을 이용하여 type(자료형) 알아보기\n",
        "\n",
        "print(type('Hello, python!')) #\n",
        "print(type(0.1))\n",
        "print(type(1))\n",
        "print(type(True))"
      ],
      "execution_count": 0,
      "outputs": [
        {
          "output_type": "stream",
          "text": [
            "<class 'str'>\n",
            "<class 'float'>\n",
            "<class 'int'>\n",
            "<class 'bool'>\n"
          ],
          "name": "stdout"
        }
      ]
    },
    {
      "cell_type": "code",
      "metadata": {
        "id": "_53bSxPO6qCe",
        "colab_type": "code",
        "outputId": "02b55e23-7c21-428c-f05d-8a633953d874",
        "colab": {
          "base_uri": "https://localhost:8080/",
          "height": 34
        }
      },
      "source": [
        "# print, *를 사용하여 문자 여러 번 출력하기\n",
        "# 문자열형의 경우에만 사용할 수 있음을 알아두자.\n",
        "\n",
        "print('Hello, python!'*5) # print(문자열*반복횟수)"
      ],
      "execution_count": 0,
      "outputs": [
        {
          "output_type": "stream",
          "text": [
            "Hello, python!Hello, python!Hello, python!Hello, python!Hello, python!\n"
          ],
          "name": "stdout"
        }
      ]
    },
    {
      "cell_type": "code",
      "metadata": {
        "id": "Teuu8M9r9U15",
        "colab_type": "code",
        "outputId": "163a46b5-e6a6-4e5b-cb43-7ed4338ae997",
        "colab": {
          "base_uri": "https://localhost:8080/",
          "height": 70
        }
      },
      "source": [
        "# 문자열 안에 작은 따옴표, 큰 따옴표 넣기\n",
        "\n",
        "print(\"I love 'python'\") # 큰 따옴표 안에 작은 따옴표\n",
        "print('l love \"python\"') # 작은 따옴표 안에 큰 따옴표\n",
        "print(\"l love \\\"python\\\"\") # \\을 사용하면 그 뒤의 문자는 특수한 의미를 잃게 된다."
      ],
      "execution_count": 0,
      "outputs": [
        {
          "output_type": "stream",
          "text": [
            "I love 'python'\n",
            "l love \"python\"\n",
            "l love \"python\"\n"
          ],
          "name": "stdout"
        }
      ]
    },
    {
      "cell_type": "code",
      "metadata": {
        "id": "WP4ctVmD-i65",
        "colab_type": "code",
        "outputId": "ce66135b-2ecc-40fc-bad6-33f38a4c0c9f",
        "colab": {
          "base_uri": "https://localhost:8080/",
          "height": 70
        }
      },
      "source": [
        "# sep 이용하기\n",
        "print('할아버지가','방에','들어가십니다.') # sep를 사용하지 않으면 기본적으로 한 칸씩 띄어서 출력된다.\n",
        "print('할아버지가','방에','들어가십니다.',sep='') # 붙여서 출력\n",
        "print('할아버지가','방에','들어가십니다.',sep='!') # !로 구분해서 출력"
      ],
      "execution_count": 0,
      "outputs": [
        {
          "output_type": "stream",
          "text": [
            "할아버지가 방에 들어가십니다.\n",
            "할아버지가방에들어가십니다.\n",
            "할아버지가!방에!들어가십니다.\n"
          ],
          "name": "stdout"
        }
      ]
    },
    {
      "cell_type": "code",
      "metadata": {
        "id": "lVTOxhRg_aLE",
        "colab_type": "code",
        "outputId": "c91ebbf5-64bb-4899-a56c-5894b6948715",
        "colab": {
          "base_uri": "https://localhost:8080/",
          "height": 52
        }
      },
      "source": [
        "# end 이용하기\n",
        "print('I','love','python') # end를 사용하지 않으면 기본적으로 \\n(개행 문자)로 끝난다.\n",
        "print('I','love','python',end='') # 다음 내용을 바로 붙여서 출력\n",
        "print('♡',end='☆') # ☆을 끝에 붙여서 출력"
      ],
      "execution_count": 0,
      "outputs": [
        {
          "output_type": "stream",
          "text": [
            "I love python\n",
            "I love python♡☆"
          ],
          "name": "stdout"
        }
      ]
    },
    {
      "cell_type": "code",
      "metadata": {
        "id": "bFN7qn5kBNv8",
        "colab_type": "code",
        "outputId": "a2ac9892-acee-40a0-fcd4-9be209bb359c",
        "colab": {
          "base_uri": "https://localhost:8080/",
          "height": 140
        }
      },
      "source": [
        "# % 이용하기\n",
        "# %d(정수) %f(실수) %s(문자열)\n",
        "print('%s' % 'I love you') # 단일로 사용 가능\n",
        "print('I %s you' % 'love') # 문자 중간에 사용 가능\n",
        "print('%s %s %s' % ('I','love','you')) # 여러개 사용 가능\n",
        "print('%10s' % '★') # 10칸을 확보한 후 오른쪽부터 문자 표기\n",
        "print('%5d' % 10) # 5칸을 확보한 후 오른쪽부터 정수 표기\n",
        "print('%05d' % 10) # 빈칸에는 0을 채움\n",
        "print('%7.3f' % 10.2598) # 전체 7칸을 확보한 후 반올림하여 소수점 아래 3째 자리까지 오른쪽부터 표기"
      ],
      "execution_count": 0,
      "outputs": [
        {
          "output_type": "stream",
          "text": [
            "I love you\n",
            "I love you\n",
            "I love you\n",
            "         ★\n",
            "   10\n",
            "00010\n",
            " 10.260\n"
          ],
          "name": "stdout"
        }
      ]
    },
    {
      "cell_type": "code",
      "metadata": {
        "id": "sxR1IT3jLIXn",
        "colab_type": "code",
        "outputId": "0cf1f9c6-7259-4598-8200-e5c1164ea3de",
        "colab": {
          "base_uri": "https://localhost:8080/",
          "height": 87
        }
      },
      "source": [
        "# .format 이용하기\n",
        "print('I love [{:<9}]'.format('you')) # 9칸 확보, 왼쪽 정렬\n",
        "print('I love [{:^9}]'.format('you')) # 9칸 확보, 가운데 정렬\n",
        "print('I love [{:>9}]'.format('you')) # 9칸 확보, 오른쪽 정렬\n",
        "print('[{0:<3}] [{1:^6}] [{2:>5}]'.format('I','love','you')) # 여러 개를 format 안에 넣을 경우 0부터 순서대로 값을 매김"
      ],
      "execution_count": 0,
      "outputs": [
        {
          "output_type": "stream",
          "text": [
            "I love [you      ]\n",
            "I love [   you   ]\n",
            "I love [      you]\n",
            "[I  ] [ love ] [  you]\n"
          ],
          "name": "stdout"
        }
      ]
    },
    {
      "cell_type": "code",
      "metadata": {
        "id": "RIldlTovOjRr",
        "colab_type": "code",
        "outputId": "a542fc3d-4a9b-4e71-fb10-d47db9dbe87e",
        "colab": {
          "base_uri": "https://localhost:8080/",
          "height": 70
        }
      },
      "source": [
        "# 이스케이프 문자\n",
        "# \\n(줄바꿈), \\b(backspace), \\t(tab), \\\\(\\)\n",
        "print('안녕\\n하세요\\b요?\\t만나서\\n반갑습니다.\\\\')"
      ],
      "execution_count": 0,
      "outputs": [
        {
          "output_type": "stream",
          "text": [
            "안녕\n",
            "하세요\b요?\t만나서\n",
            "반갑습니다.\\\n"
          ],
          "name": "stdout"
        }
      ]
    }
  ]
}