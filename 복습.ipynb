{
  "nbformat": 4,
  "nbformat_minor": 0,
  "metadata": {
    "colab": {
      "name": "복습.ipynb",
      "provenance": [],
      "include_colab_link": true
    },
    "kernelspec": {
      "name": "python3",
      "display_name": "Python 3"
    }
  },
  "cells": [
    {
      "cell_type": "markdown",
      "metadata": {
        "id": "view-in-github",
        "colab_type": "text"
      },
      "source": [
        "<a href=\"https://colab.research.google.com/github/yenakim13/sprout/blob/master/%EB%B3%B5%EC%8A%B5.ipynb\" target=\"_parent\"><img src=\"https://colab.research.google.com/assets/colab-badge.svg\" alt=\"Open In Colab\"/></a>"
      ]
    },
    {
      "cell_type": "code",
      "metadata": {
        "id": "L7LGJ5hAwkLI",
        "colab_type": "code",
        "outputId": "59d28471-975c-488e-8e96-11a0cf27865d",
        "colab": {
          "base_uri": "https://localhost:8080/",
          "height": 89
        }
      },
      "source": [
        "# 두 수를 입력받아 더할 때 몇 번 받아올림 하는지 알려주는 프로그램을 작성\n",
        "k=0\n",
        "a,b=map(int,input('두 수를 입력하세요.').split(' '))\n",
        "l1=list(str(a))\n",
        "l2=list(str(b))\n",
        "print(l1,l2)\n",
        "l3=list()\n",
        "x1=len(l1)\n",
        "x2=len(l2)\n",
        "for i in range(-1,-x1-1,-1):\n",
        "  for j in range(-1,-x2-1,-1):\n",
        "    if i==j:\n",
        "      l1[i]=int(l1[i])\n",
        "      l2[i]=int(l2[i])\n",
        "      l3.append(l1[i]+l2[j])\n",
        "    elif x1>x2:\n",
        "      if -x2>i:\n",
        "        l1[i]=int(l1[i])\n",
        "        l3.append(l1[i])\n",
        "    elif x2>x1:\n",
        "      if -x1>i:\n",
        "        l2[i]=int(l2[i])\n",
        "        l3.append(l2[i])\n",
        "x3=len(l3)\n",
        "print(l3)\n",
        "for i in range(len(l3)):\n",
        "  if i!=x3-1:\n",
        "    if l3[i]>=10:\n",
        "      l3[i+1]+=1\n",
        "      k+=1\n",
        "      if l3[x3-1]>=10:\n",
        "        k+=1\n",
        "print('{}번 자리 올림이 발생했습니다.'.format(k))"
      ],
      "execution_count": 0,
      "outputs": [
        {
          "output_type": "stream",
          "text": [
            "두 수를 입력하세요.9999 1\n",
            "['9', '9', '9', '9'] ['1']\n",
            "[10, 9, 9, 9]\n",
            "4번 자리 올림이 발생했습니다.\n"
          ],
          "name": "stdout"
        }
      ]
    },
    {
      "cell_type": "code",
      "metadata": {
        "id": "sSRozWkpfzUZ",
        "colab_type": "code",
        "outputId": "e7a5850a-685f-4570-a798-db1fa9329577",
        "colab": {
          "base_uri": "https://localhost:8080/",
          "height": 233
        }
      },
      "source": [
        "# 숫자를 LCD 디스플레이 방식으로 출력하는 프로그램을 만들어보세요.\n",
        "s,n=map(int,input('s(1~10), n(0~10000)을 입력하세요:').split(','))\n",
        "ho0=' '*(s+2)\n",
        "ho1=' '+'-'*s+' '\n",
        "ve0=' '\n",
        "ve1='l'\n",
        "ve2=' '*s+' '\n",
        "ve3=' '*s+'l'\n",
        "num=list(str(n))\n",
        "l1=(ho1,ho0,ho1,ho1,ho0,ho1,ho1,ho1,ho1,ho1)\n",
        "l2=(ve1,ve3,ve0,ve3,ve0,ve3,ve0,ve3,ve1,ve3,ve1,ve2,ve1,ve2,ve0,ve3,ve1,ve3,ve1,ve3)\n",
        "l3=(ho0,ho0,ho1,ho1,ho1,ho1,ho1,ho0,ho1,ho1)\n",
        "l4=(ve1,ve3,ve0,ve3,ve1,ve2,ve0,ve3,ve0,ve3,ve0,ve3,ve1,ve3,ve0,ve3,ve1,ve3,ve0,ve3)\n",
        "l5=(ho1,ho0,ho1,ho1,ho0,ho1,ho1,ho0,ho1,ho1)\n",
        "for i in range(len(num)):\n",
        "  k=int(num[i])\n",
        "  print('{}'.format(l1[k]),end='')\n",
        "print('')\n",
        "for j in range(s):\n",
        "  for i in range(len(num)):\n",
        "    k=int(num[i])\n",
        "    print('{0}{1}'.format(l2[2*k],l2[2*k+1]),end='')\n",
        "  print('')\n",
        "for i in range(len(num)):\n",
        "  k=int(num[i])\n",
        "  print('{}'.format(l3[k]),end='')\n",
        "print('')\n",
        "for j in range(s):\n",
        "  for i in range(len(num)):\n",
        "    k=int(num[i])\n",
        "    print('{0}{1}'.format(l4[2*k],l4[2*k+1]),end='')\n",
        "  print('')\n",
        "for i in range(len(num)):\n",
        "  k=int(num[i])\n",
        "  print('{}'.format(l5[k]),end='')"
      ],
      "execution_count": 0,
      "outputs": [
        {
          "output_type": "stream",
          "text": [
            "s(1~10), n(0~10000)을 입력하세요:4,345\n",
            " ----        ---- \n",
            "     ll    ll     \n",
            "     ll    ll     \n",
            "     ll    ll     \n",
            "     ll    ll     \n",
            " ----  ----  ---- \n",
            "     l     l     l\n",
            "     l     l     l\n",
            "     l     l     l\n",
            "     l     l     l\n",
            " ----        ---- "
          ],
          "name": "stdout"
        }
      ]
    },
    {
      "cell_type": "code",
      "metadata": {
        "id": "8BzOpDZlpqEt",
        "colab_type": "code",
        "outputId": "b43a2b18-23e3-4b40-dc12-9411fe6b0455",
        "colab": {
          "base_uri": "https://localhost:8080/",
          "height": 215
        }
      },
      "source": [
        "# 지뢰 찾기 게임을 만들기 위해 MXN 필드를 만들어 주는 프로그램 작성\n",
        "M,N=map(int,input('MXN을 입력하세요:').split('X'))\n",
        "x=list()\n",
        "if 0<M<=100 and 0<N<=100:\n",
        "    while True:\n",
        "      n=input('*(지뢰)와 .(지뢰가 아닌 것)을 합해 {}개 입력하세요:'.format(M))\n",
        "      if len(n)==M:\n",
        "        x.append(n)\n",
        "        if len(x)==N:\n",
        "          break\n",
        "      else:\n",
        "        print('길이가 달라요. 재입력하세요.')\n",
        "else:\n",
        "  print('범위 오류입니다. 다시 입력하세요.')\n",
        "for j in range(N):\n",
        "  for i in range(M):\n",
        "    if x[j][i]=='*':\n",
        "      print(x[j][i],end='')\n",
        "      if i==M-1:\n",
        "        print('')\n",
        "    else:\n",
        "      k=0\n",
        "      for y1 in range(-1,2):\n",
        "        for y2 in range(-1,2):\n",
        "          if y1==0 and y2==0:\n",
        "            continue\n",
        "          elif 0<=j+y1<M and 0<=i+y2<N and x[j+y1][i+y2]=='*':\n",
        "            k+=1\n",
        "      print(k,end='')\n",
        "      if i==M-1:\n",
        "        print('')"
      ],
      "execution_count": 0,
      "outputs": [
        {
          "output_type": "stream",
          "text": [
            "MXN을 입력하세요:5X5\n",
            "*(지뢰)와 .(지뢰가 아닌 것)을 합해 5개 입력하세요:*____\n",
            "*(지뢰)와 .(지뢰가 아닌 것)을 합해 5개 입력하세요:_**_*\n",
            "*(지뢰)와 .(지뢰가 아닌 것)을 합해 5개 입력하세요:__**_\n",
            "*(지뢰)와 .(지뢰가 아닌 것)을 합해 5개 입력하세요:**__*\n",
            "*(지뢰)와 .(지뢰가 아닌 것)을 합해 5개 입력하세요:___**\n",
            "*3221\n",
            "2**4*\n",
            "35**3\n",
            "**45*\n",
            "222**\n"
          ],
          "name": "stdout"
        }
      ]
    },
    {
      "cell_type": "code",
      "metadata": {
        "id": "S3C8ABP4TfJz",
        "colab_type": "code",
        "outputId": "b767c64f-3973-411f-9e8c-062b20d3c8ab",
        "colab": {
          "base_uri": "https://localhost:8080/",
          "height": 52
        }
      },
      "source": [
        "# 어떤 정수 n에서 시작해서, n이 짝수면 2로 나누고, 홀수면 3을 곱한 다음 1을 더합니다.\n",
        "# 이렇게 해서 새로 만들어진 숫자를 n으로 놓고, n=1이 될 때 까지 같은 작업을 계속 반복합니다.\n",
        "# n이 입력되었을 때 1이 나올 때 까지 만들어진 수의 개수를 n의 사이클 길이라고 합니다.\n",
        "# i, j 두 수를 입력 받아 두 수 사이에 모든 수에 대해 최대 사이클 길이를 구하고, 그 수와 함께 출력하세요.\n",
        "\n",
        "i,j=map(int,input('두 수를 입력하세요:').split(' '))\n",
        "k_list=[]\n",
        "if i>=j:\n",
        "  for n in range(j,i+1):\n",
        "    k=0\n",
        "    n_list=[]\n",
        "    n_list.append(n)\n",
        "    while True:\n",
        "      if n_list[k]==1:\n",
        "        k_list.append(k+1)\n",
        "        break\n",
        "      elif n_list[k]%2==0:\n",
        "        n_list.append(n_list[k]/2)\n",
        "        k+=1\n",
        "      else:\n",
        "        n_list.append(n_list[k]*3+1)\n",
        "        k+=1\n",
        "  M=max(k_list)\n",
        "  print('{0}의 사이클 {1}(으)로 최대'.format(j+k_list.index(M),M))\n",
        "else:\n",
        "  for n in range(i,j+1):\n",
        "    k=0\n",
        "    n_list=[]\n",
        "    n_list.append(n)\n",
        "    while True:\n",
        "      if n_list[k]==1:\n",
        "        k_list.append(k+1)\n",
        "        break\n",
        "      elif n_list[k]%2==0:\n",
        "        n_list.append(n_list[k]/2)\n",
        "        k+=1\n",
        "      else:\n",
        "        n_list.append(n_list[k]*3+1)\n",
        "        k+=1\n",
        "  M=max(k_list)\n",
        "  print('{0}의 사이클 {1}(으)로 최대'.format(i+k_list.index(M),M))"
      ],
      "execution_count": 0,
      "outputs": [
        {
          "output_type": "stream",
          "text": [
            "두 수를 입력하세요:1 10\n",
            "9의 사이클 20(으)로 최대\n"
          ],
          "name": "stdout"
        }
      ]
    },
    {
      "cell_type": "code",
      "metadata": {
        "id": "I0G_0YVCqm0C",
        "colab_type": "code",
        "outputId": "d562226b-9607-47f3-ebde-dc83459c7e17",
        "colab": {
          "base_uri": "https://localhost:8080/",
          "height": 140
        }
      },
      "source": [
        "# 숫자를 여러 개 입력 받아, 입력 받은 수 만큼 ♥를 출력하는 프로그램을 작성\n",
        "while True:\n",
        "  num=int(input('원하는 숫자를 입력하세요. ex)4532:'))\n",
        "  if num==0:\n",
        "    print('프로그램을 종료합니다.')\n",
        "    break\n",
        "  elif num<0:\n",
        "    print('잘못된 범위입니다. 자연수를 입력하세요.')\n",
        "    continue\n",
        "  else:\n",
        "    l=list(str(num))\n",
        "    for i in range(len(l)):\n",
        "      l[i]=int(l[i])\n",
        "      print('♥'*l[i])"
      ],
      "execution_count": 0,
      "outputs": [
        {
          "output_type": "stream",
          "text": [
            "원하는 숫자를 입력하세요. ex)4532:5297\n",
            "♥♥♥♥♥\n",
            "♥♥\n",
            "♥♥♥♥♥♥♥♥♥\n",
            "♥♥♥♥♥♥♥\n",
            "원하는 숫자를 입력하세요. ex)4532:0\n",
            "프로그램을 종료합니다.\n"
          ],
          "name": "stdout"
        }
      ]
    },
    {
      "cell_type": "code",
      "metadata": {
        "id": "WaSgvtbPtkJH",
        "colab_type": "code",
        "outputId": "7a78d0d5-5694-4412-dba0-a444e23fd0b7",
        "colab": {
          "base_uri": "https://localhost:8080/",
          "height": 404
        }
      },
      "source": [
        "# 야구게임\n",
        "import random\n",
        "nums=[]\n",
        "num=random.randint(0,9)\n",
        "for i in range(3):\n",
        "  while num in nums:\n",
        "    num=random.randint(0,9)\n",
        "    num=str(num)\n",
        "  num=str(num)\n",
        "  nums.append(num)\n",
        "k=0\n",
        "print('숫자야구게임을 시작합니다.')\n",
        "print('----------------------------------------')\n",
        "while True:\n",
        "  k+=1\n",
        "  inf=list(input('3자리 숫자를 입력하세요. ex)123:'))\n",
        "  strike=0\n",
        "  ball=0\n",
        "  if len(inf)==3 and inf[0]!=inf[1] and inf[1]!=inf[2] and inf[2]!=inf[0]:\n",
        "    for h in range(3):\n",
        "      if inf[h]==nums[h]:\n",
        "        strike+=1\n",
        "        if strike==3:\n",
        "          break\n",
        "    for i in range(3):\n",
        "      for j in range(3):\n",
        "        if inf[i]==nums[j] and not i==j:\n",
        "          ball+=1\n",
        "    print('결과 : [ {0} ] Strike, [ {1} ] Ball'.format(strike,ball))\n",
        "    if strike==3:\n",
        "      print('----------------------------------------')\n",
        "      print('{}번 만에 정답을 맞추셨습니다.'.format(k))\n",
        "      break\n",
        "  elif inf==['0']:\n",
        "    print('반복문을 종료합니다.')\n",
        "    break\n",
        "  else:\n",
        "    print('잘못된 입력입니다. 다시 입력하세요.')\n",
        "    continue"
      ],
      "execution_count": 0,
      "outputs": [
        {
          "output_type": "stream",
          "text": [
            "숫자야구게임을 시작합니다.\n",
            "----------------------------------------\n",
            "3자리 숫자를 입력하세요. ex)123:789\n",
            "결과 : [ 0 ] Strike, [ 0 ] Ball\n",
            "3자리 숫자를 입력하세요. ex)123:123\n",
            "결과 : [ 0 ] Strike, [ 1 ] Ball\n",
            "3자리 숫자를 입력하세요. ex)123:178\n",
            "결과 : [ 0 ] Strike, [ 0 ] Ball\n",
            "3자리 숫자를 입력하세요. ex)123:278'\n",
            "잘못된 입력입니다. 다시 입력하세요.\n",
            "3자리 숫자를 입력하세요. ex)123:278\n",
            "결과 : [ 0 ] Strike, [ 1 ] Ball\n",
            "3자리 숫자를 입력하세요. ex)123:472\n",
            "결과 : [ 1 ] Strike, [ 0 ] Ball\n",
            "3자리 숫자를 입력하세요. ex)123:572\n",
            "결과 : [ 1 ] Strike, [ 1 ] Ball\n",
            "3자리 숫자를 입력하세요. ex)123:672\n",
            "결과 : [ 1 ] Strike, [ 0 ] Ball\n",
            "3자리 숫자를 입력하세요. ex)123:052\n",
            "결과 : [ 3 ] Strike, [ 0 ] Ball\n",
            "----------------------------------------\n",
            "9번 만에 정답을 맞추셨습니다.\n"
          ],
          "name": "stdout"
        }
      ]
    },
    {
      "cell_type": "code",
      "metadata": {
        "id": "6nT9ugUP8hIg",
        "colab_type": "code",
        "outputId": "ab4083e1-afd3-4a54-dd1e-a415f5586857",
        "colab": {
          "base_uri": "https://localhost:8080/",
          "height": 179
        }
      },
      "source": [
        "# 가위바위보 하기\n",
        "import random\n",
        "dic={0:'가위',1:'바위',2:'보'}\n",
        "while True:\n",
        "  per=input('가위바위보(종료):')\n",
        "  if per=='종료':\n",
        "    break\n",
        "  elif per=='가위' or per=='바위' or per=='보':\n",
        "    num=random.randint(0,2)\n",
        "    com=dic[num]\n",
        "    if per==com:\n",
        "      print('{}, 비겼습니다.'.format(com))\n",
        "    elif (per=='가위' and num==1) or (per=='바위' and num==2) or (per=='보' and num==0):\n",
        "      print('나 : {0}   컴퓨터 : {1}\\n승리!!!'.format(per,com))\n",
        "    else:\n",
        "      print('{}, 졌습니다.'.format(com))"
      ],
      "execution_count": 0,
      "outputs": [
        {
          "output_type": "stream",
          "text": [
            "가위바위보(종료):가위\n",
            "가위, 비겼습니다.\n",
            "가위바위보(종료):바위\n",
            "나 : 바위   컴퓨터 : 보\n",
            "승리!!!\n",
            "가위바위보(종료):보\n",
            "나 : 보   컴퓨터 : 가위\n",
            "승리!!!\n",
            "가위바위보(종료):종료\n"
          ],
          "name": "stdout"
        }
      ]
    },
    {
      "cell_type": "code",
      "metadata": {
        "id": "KtDt56Lmudrp",
        "colab_type": "code",
        "outputId": "1d367d3c-0d5b-40be-ab56-440519e2fe23",
        "colab": {
          "base_uri": "https://localhost:8080/",
          "height": 53
        }
      },
      "source": [
        "# 최대공약수 구하기\n",
        "a,b=map(int,input('양의 정수 두 수를 입력하시오:').split(','))\n",
        "n=[a,b]\n",
        "l=[]\n",
        "if a>0 and b>0:\n",
        "  for i in range(1,min(n)+1):\n",
        "    if a%i==0 and b%i==0:\n",
        "      l.append(i)\n",
        "  print('공약수들의 최대값인 최대공약수 :',max(l))\n",
        "else:\n",
        "  print('잘못된 입력입니다.')"
      ],
      "execution_count": 0,
      "outputs": [
        {
          "output_type": "stream",
          "text": [
            "양의 정수 두 수를 입력하시오:12,15\n",
            "공약수들의 최대값인 최대공약수 : 3\n"
          ],
          "name": "stdout"
        }
      ]
    }
  ]
}