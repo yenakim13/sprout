{
  "nbformat": 4,
  "nbformat_minor": 0,
  "metadata": {
    "colab": {
      "name": "GUI 프로그래밍.ipynb",
      "provenance": [],
      "authorship_tag": "ABX9TyOjYEj7/gd7PffmCf72hhd8",
      "include_colab_link": true
    },
    "kernelspec": {
      "name": "python3",
      "display_name": "Python 3"
    }
  },
  "cells": [
    {
      "cell_type": "markdown",
      "metadata": {
        "id": "view-in-github",
        "colab_type": "text"
      },
      "source": [
        "<a href=\"https://colab.research.google.com/github/yenakim13/sprout/blob/master/GUI_%ED%94%84%EB%A1%9C%EA%B7%B8%EB%9E%98%EB%B0%8D.ipynb\" target=\"_parent\"><img src=\"https://colab.research.google.com/assets/colab-badge.svg\" alt=\"Open In Colab\"/></a>"
      ]
    },
    {
      "cell_type": "code",
      "metadata": {
        "id": "2bPOBUPHOj_O",
        "colab_type": "code",
        "colab": {}
      },
      "source": [
        "# Tkinter 라이브러리\n",
        "# Turtle 라이브러리"
      ],
      "execution_count": 0,
      "outputs": []
    },
    {
      "cell_type": "code",
      "metadata": {
        "id": "BhIrccW6YGjM",
        "colab_type": "code",
        "colab": {}
      },
      "source": [
        "# 창 만들기\n",
        "# from tkinter import *\n",
        "# root=Tk() # Tk() 객체 호출->root에 담아서 사용\n",
        "# label=Label(root,text='Welcome, Please input your name',bg='cyan')\n",
        "# label.pack() # pack는 보통 위에서 아래로 순서대로 배치\n",
        "# entry=Entry(root,bd=5)\n",
        "# entry.pack()\n",
        "# button=Button(root,text='Ok',cursor='pirate',fg='blue',height=10)\n",
        "# button.pack()\n",
        "# root.mainloop() # mainloop()로 계속 창 대기 상태"
      ],
      "execution_count": 0,
      "outputs": []
    },
    {
      "cell_type": "code",
      "metadata": {
        "id": "GPu38AJrYIBS",
        "colab_type": "code",
        "colab": {}
      },
      "source": [
        "# 함수를 이용하여 버튼으로 동작 만들기\n",
        "# from tkinter import *\n",
        "# def btclick():\n",
        "#     ent_text=et.get() # 엔트리에 있는 값을 읽음\n",
        "#     print(ent_text)\n",
        "#     lb['fg']=ent_text # fg->폰트색\n",
        "#     et.delete\n",
        "# window=Tk()\n",
        "# window.title('버튼 이벤트 만들기')\n",
        "# lb=Label(window,text='아래 빈칸에 텍스트를 입력하세요',width=40)\n",
        "# et=Entry(window,width=40)\n",
        "# bt=Button(window,text='확인',width=40,bg='pink',command=btclick)\n",
        "# lb.pack()\n",
        "# et.pack()\n",
        "# bt.pack()\n",
        "# window.mainloop()"
      ],
      "execution_count": 0,
      "outputs": []
    },
    {
      "cell_type": "code",
      "metadata": {
        "id": "AEVDlPo5bS8M",
        "colab_type": "code",
        "colab": {}
      },
      "source": [
        "# 메세지 창 만들기\n",
        "# from tkinter import *\n",
        "# from tkinter import messagebox\n",
        "# def btclick():\n",
        "#     ent_text=et.get() # 엔트리에 있는 값을 읽음\n",
        "#     print(ent_text)\n",
        "#     lb['fg']=ent_text # fg->폰트색\n",
        "#     et.delete\n",
        "# \n",
        "#     messagebox.showinfo('제목',ent_text+'(으)로 색을 변경합니다.')\n",
        "#     # showwarning(), showerror()\n",
        "# window=Tk()\n",
        "# window.title('버튼 이벤트 만들기')\n",
        "# lb=Label(window,text='아래 빈칸에 텍스트를 입력하세요',width=40)\n",
        "# et=Entry(window,width=40)\n",
        "# bt=Button(window,text='확인',width=40,bg='pink',command=btclick)\n",
        "# lb.pack()\n",
        "# et.pack()\n",
        "# bt.pack()\n",
        "# window.mainloop()"
      ],
      "execution_count": 0,
      "outputs": []
    },
    {
      "cell_type": "code",
      "metadata": {
        "id": "nEURIDWwbUJd",
        "colab_type": "code",
        "colab": {}
      },
      "source": [
        "# 로그인 창 만들기\n",
        "# from tkinter import *\n",
        "# from tkinter import messagebox\n",
        "# IDPW={'홍길동':'a123','박철수':'b123','이영희':'c123'}\n",
        "# def btclick():\n",
        "#     ent1_text=et1.get() # 엔트리에 있는 값을 읽음\n",
        "#     ent2_text=et2.get()\n",
        "#     if ent1_text in list(IDPW.keys()):\n",
        "#         if ent2_text==IDPW[ent1_text]:\n",
        "#             messagebox.showinfo('로그인 성공', '{}님 안녕하세요.'.format(ent1_text))\n",
        "#         else:\n",
        "#             messagebox.showerror('로그인 실패', '패스워드를 확인하세요.')\n",
        "#     else:\n",
        "#         messagebox.showerror('로그인 실패', '아이디가 존재하지 않습니다.')\n",
        "# \n",
        "# window=Tk()\n",
        "# window.title('로그인')\n",
        "# lb1=Label(window,text='ID를 입력하세요',width=40)\n",
        "# et1=Entry(window,width=40)\n",
        "# lb2=Label(window,text='PASSWORD를 입력하세요',width=40)\n",
        "# et2=Entry(window,width=40,show='*') # 비밀번호 별로 나타내기\n",
        "# bt=Button(window,text='로그인',width=30,command=btclick)\n",
        "# lb1.pack()\n",
        "# et1.pack()\n",
        "# lb2.pack()\n",
        "# et2.pack()\n",
        "# bt.pack()\n",
        "# window.mainloop()"
      ],
      "execution_count": 0,
      "outputs": []
    },
    {
      "cell_type": "code",
      "metadata": {
        "id": "km4oaGoLiUl9",
        "colab_type": "code",
        "colab": {}
      },
      "source": [
        "# pack 매니저\n",
        "# 수평 정렬(왼쪽에서 오른쪽), 수직 정렬(위에서 아래)\n",
        "# grid 매니저\n",
        "# 표처럼 관리\n",
        "# grid(row=행의 값, column=열의 값)"
      ],
      "execution_count": 0,
      "outputs": []
    },
    {
      "cell_type": "code",
      "metadata": {
        "id": "1v3qHDiKrvNj",
        "colab_type": "code",
        "colab": {}
      },
      "source": [
        "# grid 이용해서 로그인창 만들기\n",
        "# from tkinter import *\n",
        "# from tkinter import messagebox\n",
        "# IDPW={'홍길동':'a123','박철수':'b123','이영희':'c123','이여신':'47ub'}\n",
        "# def btclick():\n",
        "#     ent1_text=et1.get() # 엔트리에 있는 값을 읽음\n",
        "#     ent2_text=et2.get()\n",
        "#     if ent1_text in list(IDPW.keys()):\n",
        "#         if ent2_text==IDPW[ent1_text]:\n",
        "#             messagebox.showinfo('로그인 성공', '{}님 안녕하세요.'.format(ent1_text))\n",
        "#         else:\n",
        "#             messagebox.showerror('로그인 실패', '패스워드를 확인하세요.')\n",
        "#     else:\n",
        "#         messagebox.showerror('로그인 실패', '아이디가 존재하지 않습니다.')\n",
        "# window=Tk()\n",
        "# window.title('로그인')\n",
        "# lb1=Label(window,text='ID',width=10)\n",
        "# et1=Entry(window,width=40)\n",
        "# lb2=Label(window,text='PASSWORD',width=10)\n",
        "# et2=Entry(window,width=40,show='*') # 비밀번호 별로 나타내기\n",
        "# bt=Button(window,text='로그인',width=30,command=btclick)\n",
        "# lb1.grid(row=0,column=0)\n",
        "# et1.grid(row=0,column=1)\n",
        "# lb2.grid(row=1,column=0)\n",
        "# et2.grid(row=1,column=1)\n",
        "# bt.grid(row=2,column=1)\n",
        "# window.mainloop()"
      ],
      "execution_count": 0,
      "outputs": []
    },
    {
      "cell_type": "code",
      "metadata": {
        "id": "GXe6gxmVr4OT",
        "colab_type": "code",
        "colab": {}
      },
      "source": [
        "# 메뉴바 만들기\n",
        "# root=Tk()\n",
        "# def msgbox():\n",
        "#     messagebox.showinfo('안내','준비중입니다.')\n",
        "# def quit():\n",
        "#     root.destroy()\n",
        "#     root.quit()\n",
        "# menubar=Menu(root)\n",
        "# f1.add_command(label='새 파일',command=msgbox)\n",
        "# f1.add_command(label='열기',command=msgbox)\n",
        "# f1.add_command(label='저장',command=msgbox)\n",
        "# f1.add_separator()\n",
        "# f1.add_command(label='Exit',command=quit)\n",
        "# menubar.add_cascade(label='File',menu=f1)\n",
        "# root.config(menu=menubar)\n",
        "# root.mainloop()"
      ],
      "execution_count": 0,
      "outputs": []
    },
    {
      "cell_type": "code",
      "metadata": {
        "id": "BfbXZjUgtnWD",
        "colab_type": "code",
        "colab": {}
      },
      "source": [
        "# 메뉴바 File, Edit 만들기\n",
        "# root=Tk()\n",
        "# def msgbox():\n",
        "#     messagebox.showinfo('안내','준비중입니다.')\n",
        "# def quit():\n",
        "#     root.destroy()\n",
        "#     root.quit()\n",
        "# menubar=Menu(root) # 메뉴바를 menubar에 담기\n",
        "# f1=Menu(menubar,tearoff=0) # 메뉴바 안의 f1 Menu를 생성하고 저장, tearoff=0 절취선 없애기\n",
        "# f1.add_command(label='새 파일',command=msgbox) # f1에 메뉴 등록\n",
        "# f1.add_command(label='열기',command=msgbox)\n",
        "# f1.add_command(label='저장',command=msgbox)\n",
        "# f1.add_separator() # f1에 가로선 등록\n",
        "# f1.add_command(label='Exit',command=quit)\n",
        "# menubar.add_cascade(label='File',menu=f1) # f1 메뉴 'File'이름으로 마감\n",
        "# f2=Menu(menubar,tearoff=0)\n",
        "# f2.add_command(label='삽입',command=msgbox) # f2에 메뉴 등록\n",
        "# f2.add_command(label='삭제',command=msgbox)\n",
        "# f2.add_command(label='복사',command=msgbox)\n",
        "# menubar.add_cascade(label='Edit',menu=f2)\n",
        "# root.config(menu=menubar) # 메뉴바를 root 창에 등록\n",
        "# root.mainloop()"
      ],
      "execution_count": 0,
      "outputs": []
    },
    {
      "cell_type": "code",
      "metadata": {
        "id": "_d5uSebqQsf5",
        "colab_type": "code",
        "colab": {}
      },
      "source": [
        "# 메모장 만들기\n",
        "# import os\n",
        "# root=Tk()\n",
        "# root.title('메모장')\n",
        "# def quit():\n",
        "#     root.destroy()\n",
        "#     root.quit()\n",
        "# def new():\n",
        "#     etr.delete(1.0,END)\n",
        "# def op():\n",
        "#     if os.path.exists('memojang.txt'):\n",
        "#         f=open('memojang.txt','r')\n",
        "#         a=f.read()\n",
        "#         etr.delete(1.0,END)\n",
        "#         etr.insert(1.0,a)\n",
        "#         f.close()\n",
        "#     else:\n",
        "#         messagebox.showerror('오류', '먼저 저장하세요.')\n",
        "# def save():\n",
        "#     f=open('memojang.txt','w')\n",
        "#     f.write(etr.get(1.0,END))\n",
        "#     f.close()\n",
        "# menubar=Menu(root) # 메뉴바를 menubar에 담기\n",
        "# f1=Menu(menubar,tearoff=0) # 메뉴바 안의 f1 Menu를 생성하고 저장, tearoff=0 절취선 없애기\n",
        "# f1.add_command(label='새 파일',command=new) # f1에 메뉴 등록\n",
        "# f1.add_command(label='열기',command=op)\n",
        "# f1.add_command(label='저장',command=save)\n",
        "# f1.add_command(label='종료',command=quit)\n",
        "# menubar.add_cascade(label='File',menu=f1) # f1 메뉴 'File'이름으로 마감\n",
        "# root.config(menu=menubar) # 메뉴바를 root 창에 등록\n",
        "# etr=Text(root,width=40)\n",
        "# etr.pack()\n",
        "# root.mainloop()"
      ],
      "execution_count": 0,
      "outputs": []
    }
  ]
}