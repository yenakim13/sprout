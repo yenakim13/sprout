{
  "nbformat": 4,
  "nbformat_minor": 0,
  "metadata": {
    "colab": {
      "name": "dictionary, tuple, set.ipynb",
      "provenance": [],
      "include_colab_link": true
    },
    "kernelspec": {
      "name": "python3",
      "display_name": "Python 3"
    }
  },
  "cells": [
    {
      "cell_type": "markdown",
      "metadata": {
        "id": "view-in-github",
        "colab_type": "text"
      },
      "source": [
        "<a href=\"https://colab.research.google.com/github/yenakim13/sprout/blob/master/dictionary%2C_tuple%2C_set.ipynb\" target=\"_parent\"><img src=\"https://colab.research.google.com/assets/colab-badge.svg\" alt=\"Open In Colab\"/></a>"
      ]
    },
    {
      "cell_type": "code",
      "metadata": {
        "id": "mMVYPISqVhvE",
        "colab_type": "code",
        "outputId": "3a10d600-f673-48e5-ab2b-bb75c39fcc03",
        "colab": {
          "base_uri": "https://localhost:8080/",
          "height": 107
        }
      },
      "source": [
        "# tuple(집합형 자료형)\n",
        "# 생성 후에는 요소의 추가 및 삭제 불가능(읽기 전용 데이터에 유용)\n",
        "\n",
        "# 튜플 생성\n",
        "t1=(1,2,3) # () 사용\n",
        "t2=1,2,3 # 괄호 생략 가능\n",
        "t3=() # 빈 튜플\n",
        "t4=(1,) # 요소가 1개인 튜플\n",
        "\n",
        "# 튜플 인덱싱, 튜플 슬라이싱, 튜플 연산(+,*) 가능\n",
        "print(t1[1]) # 인덱싱\n",
        "print(t2[:1]) # 슬라이싱\n",
        "print(t1+t2) # 연산\n",
        "\n",
        "# 튜플은 튜플 내 요소는 건드릴 수 없으나 튜플 자체는 삭제 가능\n",
        "del(t1)\n",
        "\n",
        "# 튜플 처리 함수\n",
        "# len(t1) 튜플의 길이를 반환\n",
        "# max(t1) 튜플에 저장된 최댓값 반환\n",
        "# min(t1) 튜플에 저장된 최솟값 반환\n",
        "# tuple(t1) 리스트를 튜플로 변환 / 반대의 경우 list(t1)도 가능함\n",
        "\n",
        "# 요소 in 집합(True, False)\n",
        "# 요소 not in 집합(True, False)\n",
        "# 튜플 연습\n",
        "items=('cat','dog','bird')\n",
        "if 'dog' in items:\n",
        "  print('dog가 items에 존재합니다.\\n{} dog'.format(items.index('dog')))\n",
        "else:\n",
        "  print('존재하지 않습니다.')"
      ],
      "execution_count": 0,
      "outputs": [
        {
          "output_type": "stream",
          "text": [
            "2\n",
            "(1,)\n",
            "(1, 2, 3, 1, 2, 3)\n",
            "dog가 items에 존재합니다.\n",
            "1 dog\n"
          ],
          "name": "stdout"
        }
      ]
    },
    {
      "cell_type": "code",
      "metadata": {
        "id": "9sbABS74b6uY",
        "colab_type": "code",
        "outputId": "a2d5e5f4-4a11-4d1a-b22f-ef5b6fc64039",
        "colab": {
          "base_uri": "https://localhost:8080/",
          "height": 53
        }
      },
      "source": [
        "# set(중복 요소를 허용하지 않는 집합형 자료구조)\n",
        "# set는 {}로 생성하며, 빈 set는 set()로 생성({}는 안됨)해야 한다.\n",
        "# set의 자료에는 순서가 없어 인덱스를 사용할 수 없다.\n",
        "# set 생성\n",
        "s1={2,1,3}\n",
        "s2=set([2,1,3])\n",
        "s3=set(\"Good\")\n",
        "li=list(s1)\n",
        "print(li[1])\n",
        "t1=tuple(s1)\n",
        "print(t1[2])"
      ],
      "execution_count": 0,
      "outputs": [
        {
          "output_type": "stream",
          "text": [
            "2\n",
            "3\n"
          ],
          "name": "stdout"
        }
      ]
    },
    {
      "cell_type": "code",
      "metadata": {
        "id": "m2i97tWFdVvQ",
        "colab_type": "code",
        "colab": {}
      },
      "source": [
        "# 집합의 연산\n",
        "# 교집합 s1.intersection(s2), s1&s2\n",
        "# 합집합 s1.union(s2),s1|s2\n",
        "# 차집합 s1.difference(s2), s1-s2\n",
        "# s1이 s2의 부분집합인가? s1.issubset(s2)\n",
        "\n",
        "# 집합 처리 함수\n",
        "# 요소값 추가 a.add(요소값)\n",
        "# 여러 개의 요소값 추가 a.update([요소값들])\n",
        "# 요소값 제거 a.remove(요소값)\n",
        "# 요소값이 a에 있는지 확인 요소값 in a"
      ],
      "execution_count": 0,
      "outputs": []
    },
    {
      "cell_type": "code",
      "metadata": {
        "id": "hYu3_b4-e_Eq",
        "colab_type": "code",
        "outputId": "105059ea-49b9-458e-9403-1a25cdc6f345",
        "colab": {
          "base_uri": "https://localhost:8080/",
          "height": 71
        }
      },
      "source": [
        "# 정수 두 개를 입력받아 각 수의 약수와 공약수를 구하는 프로그램을 작성\n",
        "s1=set()\n",
        "s2=set()\n",
        "num1=int(input('첫 번째 수:'))\n",
        "num2=int(input('두 번째 수:'))\n",
        "for i in range(1,num1+1):\n",
        "  if num1%i==0:\n",
        "    s1.add(i)\n",
        "for i in range(1,num2+1):\n",
        "  if num2%i==0:\n",
        "    s2.add(i)\n",
        "print('{0}과 {1}의 공약수는 {2}'.format(num1,num2,s1&s2))"
      ],
      "execution_count": 0,
      "outputs": [
        {
          "output_type": "stream",
          "text": [
            "첫 번째 수:5\n",
            "두 번째 수:10\n",
            "5과 10의 공약수는 {1, 5}\n"
          ],
          "name": "stdout"
        }
      ]
    },
    {
      "cell_type": "code",
      "metadata": {
        "id": "i5Dirnhdj6Wq",
        "colab_type": "code",
        "outputId": "5ae38782-d18b-431a-b26e-2aefae466b41",
        "colab": {
          "base_uri": "https://localhost:8080/",
          "height": 53
        }
      },
      "source": [
        "total={'정해인','여진구','남주혁','박서준','박보검'}\n",
        "late={'정해인','여진구','남주혁'}\n",
        "abscent={'남주혁','박보검'}\n",
        "print('보너스 급여 받는 사원:{}'.format(total-(abscent|late)))\n",
        "print('야근 할 사원:{}'.format(late&abscent))"
      ],
      "execution_count": 0,
      "outputs": [
        {
          "output_type": "stream",
          "text": [
            "보너스 급여 받는 사원:{'박서준'}\n",
            "야근 할 사원:{'남주혁'}\n"
          ],
          "name": "stdout"
        }
      ]
    },
    {
      "cell_type": "code",
      "metadata": {
        "id": "7y32T-oPm7d1",
        "colab_type": "code",
        "outputId": "5db77eea-c0fa-46d1-85f9-526cb2439160",
        "colab": {
          "base_uri": "https://localhost:8080/",
          "height": 53
        }
      },
      "source": [
        "# dictionary\n",
        "# 중괄호로 묶여 있으며 key와 value를 한 쌍으로 묶어 하나의 요소로 처리\n",
        "# 요소의 추가 삭제 가능, 동일한 key를 가질 수 없음\n",
        "# 빈 딕셔너리 생성:dict(),{}\n",
        "\n",
        "# 딕셔너리 생성\n",
        "d1={1:1,2:'a','3':'cd','abc':[1,2,3]}\n",
        "# {키:값}\n",
        "# value 값 조회:dic[key]\n",
        "print(d1[1])\n",
        "print(d1['3'])"
      ],
      "execution_count": 0,
      "outputs": [
        {
          "output_type": "stream",
          "text": [
            "1\n",
            "cd\n"
          ],
          "name": "stdout"
        }
      ]
    },
    {
      "cell_type": "code",
      "metadata": {
        "id": "2VOTU1g0qZ4u",
        "colab_type": "code",
        "colab": {}
      },
      "source": [
        "# 새 쌍 추가\n",
        "# 딕셔너리 이름[새 key]=value\n",
        "# del(딕셔너리이름[key])\n",
        "# 딕셔너리이름.get(키):키가 없을 때 반환하지 않음\n",
        "# 딕셔너리이름.keys():모든 키 list형태로 반환\n",
        "# 딕셔너리이름.values():딕셔너리의 모든 값 반환\n",
        "# 딕셔너리이름.items():딕셔너리의 모든 데이터 쌍을 튜플 형태로 반환\n",
        "# in : True, False 딕셔너리에 key가 있는지 확인\n",
        "# 딕셔너리이름.clear():key 모두 지우기"
      ],
      "execution_count": 0,
      "outputs": []
    },
    {
      "cell_type": "code",
      "metadata": {
        "id": "cMezQGmAsuTY",
        "colab_type": "code",
        "outputId": "f6b733b6-50f5-47f6-a14b-62ad03c0e362",
        "colab": {
          "base_uri": "https://localhost:8080/",
          "height": 53
        }
      },
      "source": [
        "# 아이스크림 가게\n",
        "icecream={'메로나':1000,'탱크보이':1200,'더위사냥':1500,'월드콘':1500,'빠삐코':1300}\n",
        "name=input('아이스크림 품명을 입력하세요:')\n",
        "if name in icecream:\n",
        "  print('{0} 가격:{1}'.format(name,icecream[name]))\n",
        "else:\n",
        "  print('{} 제품은 없습니다.'.format(name))"
      ],
      "execution_count": 0,
      "outputs": [
        {
          "output_type": "stream",
          "text": [
            "아이스크림 품명을 입력하세요:메로나\n",
            "메로나 가격:1000\n"
          ],
          "name": "stdout"
        }
      ]
    },
    {
      "cell_type": "code",
      "metadata": {
        "id": "paZ6R0KFWWS9",
        "colab_type": "code",
        "outputId": "1092c7b4-5a3f-43ef-991f-735304058994",
        "colab": {
          "base_uri": "https://localhost:8080/",
          "height": 35
        }
      },
      "source": [
        "# 1000 미만의 자연수에서 3과 5의 배수를 구하여 총 합을 계산하는 프로그램 작성\n",
        "num3=0\n",
        "num5=0\n",
        "for i in range(1,1000):\n",
        "  if i%3==0:\n",
        "    num3=num3+i\n",
        "  elif i%5==0:\n",
        "    num5=num5+i\n",
        "  else:continue\n",
        "print(num3+num5)"
      ],
      "execution_count": 0,
      "outputs": [
        {
          "output_type": "stream",
          "text": [
            "233168\n"
          ],
          "name": "stdout"
        }
      ]
    },
    {
      "cell_type": "code",
      "metadata": {
        "id": "BxjpMWpjaxKH",
        "colab_type": "code",
        "outputId": "60fd0dae-b11c-4b37-906f-15c28413c5e8",
        "colab": {
          "base_uri": "https://localhost:8080/",
          "height": 35
        }
      },
      "source": [
        "set1=set(range(3,1000,3))\n",
        "set2=set(range(5,1000,5))\n",
        "list3=list(set1|set2)\n",
        "tot=0\n",
        "for i in range(len(list3)):\n",
        "    tot+=list3[i]\n",
        "print(tot)"
      ],
      "execution_count": 0,
      "outputs": [
        {
          "output_type": "stream",
          "text": [
            "233168\n"
          ],
          "name": "stdout"
        }
      ]
    },
    {
      "cell_type": "code",
      "metadata": {
        "id": "9IPtH8LLhxKj",
        "colab_type": "code",
        "colab": {}
      },
      "source": [
        ""
      ],
      "execution_count": 0,
      "outputs": []
    },
    {
      "cell_type": "code",
      "metadata": {
        "id": "Il8Xm09OO4vv",
        "colab_type": "code",
        "outputId": "dd2e72a5-b835-43ef-a3f3-fff76c07cbd1",
        "colab": {
          "base_uri": "https://localhost:8080/",
          "height": 215
        }
      },
      "source": [
        "# 어미 동물과 새끼 동물의 호칭을 알 수 있는 동물 사전을 만들어 보세요.\n",
        "animals={'개':'강아지','소':'송아지','말':'망아지','닭':'병아리'}\n",
        "while True:\n",
        "  mom=input('새끼 이름을 알고 싶은 동물은?')\n",
        "  if mom=='종료':\n",
        "    break\n",
        "  elif mom=='전체':\n",
        "    ad=list(animals.keys())\n",
        "    ch=list(animals.values())\n",
        "    for i in range(len(animals)):\n",
        "      print('<{0}> --> <{1}>'.format(ad[i],ch[i]))\n",
        "  elif mom=='삭제':\n",
        "    re=input('삭제할 어미 이름을 입력하세요:')\n",
        "    del(animals[re])\n",
        "  elif mom in animals.keys():\n",
        "    print('{0}의 새끼는 {1}입니다.'.format(mom,animals[mom]))\n",
        "  else:\n",
        "    yn=input('사전에 없는 동물입니다. 추가하시겠습니까? (y/n)')\n",
        "    if yn=='y':\n",
        "      an=input('새끼 이름을 입력하세요:')\n",
        "      animals[mom]=an\n",
        "    else:\n",
        "      continue"
      ],
      "execution_count": 0,
      "outputs": [
        {
          "output_type": "stream",
          "text": [
            "새끼 이름을 알고 싶은 동물은?고등어\n",
            "사전에 없는 동물입니다. 추가하시겠습니까? (y/n)y\n",
            "새끼 이름을 입력하세요:고도리\n",
            "새끼 이름을 알고 싶은 동물은?삭제\n",
            "삭제할 어미 이름을 입력하세요:고등어\n",
            "새끼 이름을 알고 싶은 동물은?전체\n",
            "<개> --> <강아지>\n",
            "<소> --> <송아지>\n",
            "<말> --> <망아지>\n",
            "<닭> --> <병아리>\n",
            "새끼 이름을 알고 싶은 동물은?종료\n"
          ],
          "name": "stdout"
        }
      ]
    }
  ]
}