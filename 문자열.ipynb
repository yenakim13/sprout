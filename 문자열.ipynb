{
  "nbformat": 4,
  "nbformat_minor": 0,
  "metadata": {
    "colab": {
      "name": "문자열.ipynb",
      "provenance": [],
      "include_colab_link": true
    },
    "kernelspec": {
      "name": "python3",
      "display_name": "Python 3"
    }
  },
  "cells": [
    {
      "cell_type": "markdown",
      "metadata": {
        "id": "view-in-github",
        "colab_type": "text"
      },
      "source": [
        "<a href=\"https://colab.research.google.com/github/yenakim13/sprout/blob/master/%EB%AC%B8%EC%9E%90%EC%97%B4.ipynb\" target=\"_parent\"><img src=\"https://colab.research.google.com/assets/colab-badge.svg\" alt=\"Open In Colab\"/></a>"
      ]
    },
    {
      "cell_type": "code",
      "metadata": {
        "id": "pyodfmQ2lZ6V",
        "colab_type": "code",
        "outputId": "af583b59-c505-42c5-ed89-46018df4e4f2",
        "colab": {
          "base_uri": "https://localhost:8080/",
          "height": 53
        }
      },
      "source": [
        "# 문자열\n",
        "# 문자들의 나열(시퀀스)\n",
        "# 문자열 만들기 : '' 또는 \"\" 안에 문자열 입력\n",
        "\n",
        "# 문자열의 문법적인 오류\n",
        "# 큰 따옴표로 시작했다가 작은 따옴표로 끝내면 문법 오류(SyntaxError)\n",
        "# 100과 '100'\n",
        "print(100+200) # 덧셈 연산자\n",
        "print('100'+'200') # 연결 연산자"
      ],
      "execution_count": 0,
      "outputs": [
        {
          "output_type": "stream",
          "text": [
            "300\n",
            "100200\n"
          ],
          "name": "stdout"
        }
      ]
    },
    {
      "cell_type": "code",
      "metadata": {
        "id": "TvE0ivlvoJcS",
        "colab_type": "code",
        "outputId": "dd935fa1-d1f9-4ceb-c5bf-5e6966d67605",
        "colab": {
          "base_uri": "https://localhost:8080/",
          "height": 71
        }
      },
      "source": [
        "# 문자열->숫자 변환\n",
        "# 정수로 변환:int()\n",
        "# 실수로 변환:float()\n",
        "t=input('정수를 입력하시오:')\n",
        "x=int(t)\n",
        "t=input('정수를 입력하시오:')\n",
        "y=int(t)\n",
        "print(x+y)"
      ],
      "execution_count": 0,
      "outputs": [
        {
          "output_type": "stream",
          "text": [
            "정수를 입력하시오:10\n",
            "정수를 입력하시오:20\n",
            "30\n"
          ],
          "name": "stdout"
        }
      ]
    },
    {
      "cell_type": "code",
      "metadata": {
        "id": "kTMCczZeq-7k",
        "colab_type": "code",
        "outputId": "6e50fe41-083f-47ea-e3d0-39f463d00b98",
        "colab": {
          "base_uri": "https://localhost:8080/",
          "height": 35
        }
      },
      "source": [
        "# 숫자->문자열 변환\n",
        "print('나는 현재 '+str(21)+'살 이다')"
      ],
      "execution_count": 0,
      "outputs": [
        {
          "output_type": "stream",
          "text": [
            "나는 현재 21살 이다\n"
          ],
          "name": "stdout"
        }
      ]
    },
    {
      "cell_type": "code",
      "metadata": {
        "id": "pk9i8hfaraFU",
        "colab_type": "code",
        "outputId": "71093af6-c2f8-4439-f5e8-9d00caf9b8f1",
        "colab": {
          "base_uri": "https://localhost:8080/",
          "height": 35
        }
      },
      "source": [
        "# 문자열 합치기(연결 연산자)\n",
        "S1='Hello'\n",
        "S2='World'\n",
        "S3=S1+S2\n",
        "print(S3)"
      ],
      "execution_count": 0,
      "outputs": [
        {
          "output_type": "stream",
          "text": [
            "HelloWorld\n"
          ],
          "name": "stdout"
        }
      ]
    },
    {
      "cell_type": "code",
      "metadata": {
        "id": "dvV-gJ9XsC4e",
        "colab_type": "code",
        "outputId": "79f05418-102f-4c37-e27b-270d6d156132",
        "colab": {
          "base_uri": "https://localhost:8080/",
          "height": 53
        }
      },
      "source": [
        "# 문자열 반복하기\n",
        "S1='Hello'\n",
        "S2=S1*3\n",
        "print(S2)\n",
        "print('ㅋ'*10)"
      ],
      "execution_count": 0,
      "outputs": [
        {
          "output_type": "stream",
          "text": [
            "HelloHelloHello\n",
            "ㅋㅋㅋㅋㅋㅋㅋㅋㅋㅋ\n"
          ],
          "name": "stdout"
        }
      ]
    },
    {
      "cell_type": "code",
      "metadata": {
        "id": "fPWB3SeWsvZU",
        "colab_type": "code",
        "outputId": "675681a0-4895-4588-acf0-9f6bca0a62b6",
        "colab": {
          "base_uri": "https://localhost:8080/",
          "height": 35
        }
      },
      "source": [
        "# 인덱싱\n",
        "S1='Hello'\n",
        "print(S1[0])"
      ],
      "execution_count": 0,
      "outputs": [
        {
          "output_type": "stream",
          "text": [
            "H\n"
          ],
          "name": "stdout"
        }
      ]
    },
    {
      "cell_type": "code",
      "metadata": {
        "id": "RAMmqj5ouTld",
        "colab_type": "code",
        "outputId": "556fd6cc-3e3f-4020-9b3d-82794e7b6c50",
        "colab": {
          "base_uri": "https://localhost:8080/",
          "height": 35
        }
      },
      "source": [
        "# 슬라이싱\n",
        "S='Mendy Moore'\n",
        "print(S[0:4])"
      ],
      "execution_count": 0,
      "outputs": [
        {
          "output_type": "stream",
          "text": [
            "Mend\n"
          ],
          "name": "stdout"
        }
      ]
    },
    {
      "cell_type": "code",
      "metadata": {
        "id": "yKyJY9gpvDE9",
        "colab_type": "code",
        "outputId": "5a79ab84-7a0f-4243-856e-a5871465d446",
        "colab": {
          "base_uri": "https://localhost:8080/",
          "height": 35
        }
      },
      "source": [
        "# 문자열의 길이\n",
        "S='Mendy Moore'\n",
        "print(len(S))"
      ],
      "execution_count": 0,
      "outputs": [
        {
          "output_type": "stream",
          "text": [
            "11\n"
          ],
          "name": "stdout"
        }
      ]
    },
    {
      "cell_type": "code",
      "metadata": {
        "id": "OOmrvu9Avr-d",
        "colab_type": "code",
        "outputId": "c3b2daad-a18c-4683-a9ca-3f80dac9d672",
        "colab": {
          "base_uri": "https://localhost:8080/",
          "height": 35
        }
      },
      "source": [
        "# in & not in\n",
        "S='Mendy Moore'\n",
        "' ' in S"
      ],
      "execution_count": 0,
      "outputs": [
        {
          "output_type": "execute_result",
          "data": {
            "text/plain": [
              "True"
            ]
          },
          "metadata": {
            "tags": []
          },
          "execution_count": 14
        }
      ]
    },
    {
      "cell_type": "code",
      "metadata": {
        "id": "CkcC5VsQv3B3",
        "colab_type": "code",
        "outputId": "2d8be2cf-236f-4078-e0d3-dc5c8cb48535",
        "colab": {
          "base_uri": "https://localhost:8080/",
          "height": 233
        }
      },
      "source": [
        "# 문장을 입력받은 후 마지막에 마침표가 있는지 확인하여 결과를 출력하고 q를 입력시 종료하도록 반복수행하는 프로그램을 작성\n",
        "while True:\n",
        "  word=input('문장을 입력해주세요. \\'q\\'입력시 종료\\합니다.\\n')\n",
        "  if word[-1]=='.':\n",
        "    print('마침표를 잘 입력하셨습니다.')\n",
        "  elif word=='q':\n",
        "    print('종료합니다.')\n",
        "    break\n",
        "  else:\n",
        "    print('마침표를 입력하세요.')"
      ],
      "execution_count": 0,
      "outputs": [
        {
          "output_type": "stream",
          "text": [
            "문장을 입력해주세요. 'q'입력시 종료\\합니다.\n",
            "나는.배가.고프다!!!!!\n",
            "마침표를 입력하세요.\n",
            "문장을 입력해주세요. 'q'입력시 종료\\합니다.\n",
            "배 고 파!!!!!\n",
            "마침표를 입력하세요.\n",
            "문장을 입력해주세요. 'q'입력시 종료\\합니다.\n",
            "나는 배가 고프다.\n",
            "마침표를 잘 입력하셨습니다.\n",
            "문장을 입력해주세요. 'q'입력시 종료\\합니다.\n",
            "q\n",
            "종료합니다.\n"
          ],
          "name": "stdout"
        }
      ]
    },
    {
      "cell_type": "code",
      "metadata": {
        "id": "k31GVL9Rxen3",
        "colab_type": "code",
        "outputId": "dc800120-07cc-499c-8b0c-0968e4eadb89",
        "colab": {
          "base_uri": "https://localhost:8080/",
          "height": 53
        }
      },
      "source": [
        "# 띄어쓰기 기준으로 첫 글자를 따서 줄임말을 만드는 프로그램\n",
        "sen=input('문장을 입력해주세요:')\n",
        "print(sen[0],end='')\n",
        "for i in range(len(sen)):\n",
        "  if sen[i]==' ':\n",
        "    print(sen[i+1],end='')"
      ],
      "execution_count": 0,
      "outputs": [
        {
          "output_type": "stream",
          "text": [
            "문장을 입력해주세요:세상에서 제일 배고픔\n",
            "세제배"
          ],
          "name": "stdout"
        }
      ]
    },
    {
      "cell_type": "code",
      "metadata": {
        "id": "lQL-bfB4-erd",
        "colab_type": "code",
        "outputId": "b61b74ef-e77a-4f7c-9924-4cd7851d60f1",
        "colab": {
          "base_uri": "https://localhost:8080/",
          "height": 53
        }
      },
      "source": [
        "# 두 글자씩 자르기\n",
        "st=input('문장을 입력하세요:')\n",
        "ret=[]\n",
        "if len(st)%2!=0:\n",
        "  st+='_'\n",
        "for i in range(0,len(st),2):\n",
        "  ret.append(st[i:i+2])\n",
        "print(ret)"
      ],
      "execution_count": 0,
      "outputs": [
        {
          "output_type": "stream",
          "text": [
            "문장을 입력하세요:나는 배가 고프다\n",
            "['나는', ' 배', '가 ', '고프', '다_']\n"
          ],
          "name": "stdout"
        }
      ]
    },
    {
      "cell_type": "code",
      "metadata": {
        "id": "yKygunNZpab-",
        "colab_type": "code",
        "outputId": "ca20f62f-3836-4751-c307-11b59f4fa622",
        "colab": {
          "base_uri": "https://localhost:8080/",
          "height": 53
        }
      },
      "source": [
        "mystr='hello python'\n",
        "print(mystr[6:])\n",
        "print(mystr[6:-1]) # - index에서는 마지막 글자는 출력할 수 없다."
      ],
      "execution_count": 0,
      "outputs": [
        {
          "output_type": "stream",
          "text": [
            "python\n",
            "pytho\n"
          ],
          "name": "stdout"
        }
      ]
    },
    {
      "cell_type": "code",
      "metadata": {
        "id": "2MFcYbA6_UIt",
        "colab_type": "code",
        "colab": {}
      },
      "source": [
        "# 문자열 함수\n",
        "# count() 찾을 문자열이 몇 개 들었는지\n",
        "# find() 찾을 문자열이 몇 번째에 위치하는지(찾을 문자열이 없다면 -1 반환), find('찾을문자열','시작위치) 시작위치부터 찾음\n",
        "# rfind() 오른쪽부터 셈\n",
        "# index() find와 같은 용도\n",
        "# startswitch() 문자열로 시작하면 True, 그렇지 않으면 False\n",
        "# endswith() 문자열로 끝나면 True, 그렇지 않으면 False"
      ],
      "execution_count": 0,
      "outputs": []
    },
    {
      "cell_type": "code",
      "metadata": {
        "id": "8zPjwyUkq-gm",
        "colab_type": "code",
        "outputId": "09d378a5-63d3-47b9-c6cd-1577f331c318",
        "colab": {
          "base_uri": "https://localhost:8080/",
          "height": 53
        }
      },
      "source": [
        "st='Python is widely used high-level language and python was conceived in the late 1980s'\n",
        "print(st.find('in'))\n",
        "print(st.rfind('in'))"
      ],
      "execution_count": 0,
      "outputs": [
        {
          "output_type": "stream",
          "text": [
            "67\n",
            "67\n"
          ],
          "name": "stdout"
        }
      ]
    },
    {
      "cell_type": "code",
      "metadata": {
        "id": "l-szt6xHFsow",
        "colab_type": "code",
        "outputId": "ce188f43-1273-436b-b4e3-0eaff5d6dd0b",
        "colab": {
          "base_uri": "https://localhost:8080/",
          "height": 53
        }
      },
      "source": [
        "# 어절 개수 세기\n",
        "st=input('문장을 입력하시오:')\n",
        "count=st.count(' ')\n",
        "print('어절 개수',count+1)"
      ],
      "execution_count": 0,
      "outputs": [
        {
          "output_type": "stream",
          "text": [
            "문장을 입력하시오:나는 배가 고프다\n",
            "어절 개수 3\n"
          ],
          "name": "stdout"
        }
      ]
    },
    {
      "cell_type": "code",
      "metadata": {
        "id": "MdiPrGxJGha3",
        "colab_type": "code",
        "outputId": "e8c04b6e-8a88-48c5-b73f-d043445b61d1",
        "colab": {
          "base_uri": "https://localhost:8080/",
          "height": 35
        }
      },
      "source": [
        "# 대소문자 구분하지 않고 사용된 python 문자열의 개수를 출력\n",
        "st='Python is widely used high-level language and python was conceived in the late 1980s'\n",
        "st=st.lower()\n",
        "count=st.count('python')\n",
        "print(count)"
      ],
      "execution_count": 0,
      "outputs": [
        {
          "output_type": "stream",
          "text": [
            "2\n"
          ],
          "name": "stdout"
        }
      ]
    },
    {
      "cell_type": "code",
      "metadata": {
        "id": "3rzreRG3IS0B",
        "colab_type": "code",
        "outputId": "5c8903ca-f257-4aa1-f5d0-6acb62ef0f71",
        "colab": {
          "base_uri": "https://localhost:8080/",
          "height": 181
        }
      },
      "source": [
        "# 문장을 입력 받고 찾을 문자를 입력 받은 후 찾을 문자가 어디에 있는지 전부 다 출력하는 프로그램을 작성\n",
        "st=input('문장을 작성하시오:')\n",
        "wd=input('찾을 문자를 입력하시오:')\n",
        "for i in range(len(st)):\n",
        "  find=st.find(wd,i)\n",
        "  if i+1<len(st) and st.find(wd,i)!=st.find(wd,i+1):\n",
        "    print(wd,find)"
      ],
      "execution_count": 0,
      "outputs": [
        {
          "output_type": "stream",
          "text": [
            "문장을 작성하시오:FINISHED FILES ARE THE RESULT OF YEARS OF SCIENTIFIC STUDY COMBINED WITH THE EXERIENCE OF YEARS\n",
            "찾을 문자를 입력하시오:F\n",
            "F 0\n",
            "F 9\n",
            "F 31\n",
            "F 40\n",
            "F 49\n",
            "F 88\n"
          ],
          "name": "stdout"
        }
      ]
    },
    {
      "cell_type": "code",
      "metadata": {
        "id": "bzY69kMWLvyJ",
        "colab_type": "code",
        "colab": {}
      },
      "source": [
        "st=input('문장을 작성하시오:')\n",
        "wd=input('찾을 문자를 입력하시오:')\n",
        "seq=0\n",
        "for i in range(st.count(word)):\n",
        "  if st.count(word)>0:\n",
        "    seq=st.find(word,seq)\n",
        "    print(st[seq],seq+1)\n",
        "    seq=seq+1"
      ],
      "execution_count": 0,
      "outputs": []
    },
    {
      "cell_type": "code",
      "metadata": {
        "id": "1gdYnfgFMhBB",
        "colab_type": "code",
        "colab": {}
      },
      "source": [
        "# 공백 제거\n",
        "# strip() 문자열 공백 제거\n",
        "# rstrip() 문자열 오른쪽 공백 제거\n",
        "# lstrip() 문자열 왼쪽 공백 제거\n",
        "# 단, 문자열 중간의 공백은 제거되지 않음\n",
        "# 공백 외 지정한 문자('')도 제거 가능"
      ],
      "execution_count": 0,
      "outputs": []
    },
    {
      "cell_type": "code",
      "metadata": {
        "id": "9izNth3hPBlc",
        "colab_type": "code",
        "outputId": "58b329c9-7228-4789-d80d-50d4553630a2",
        "colab": {
          "base_uri": "https://localhost:8080/",
          "height": 35
        }
      },
      "source": [
        "# 문자열 변경\n",
        "s='Python is fun'\n",
        "s=s.replace('Py','Fy')\n",
        "print(s)"
      ],
      "execution_count": 0,
      "outputs": [
        {
          "output_type": "stream",
          "text": [
            "Fython is fun\n"
          ],
          "name": "stdout"
        }
      ]
    },
    {
      "cell_type": "code",
      "metadata": {
        "id": "xRlEjnY-PXNz",
        "colab_type": "code",
        "outputId": "9877984c-67aa-4e6d-98ae-52d1094fbf3a",
        "colab": {
          "base_uri": "https://localhost:8080/",
          "height": 53
        }
      },
      "source": [
        "# 대문자로 변경하고 공백 제거 후 출력\n",
        "st=input('영어 문장을 입력하세요:')\n",
        "st=st.upper()\n",
        "st=st.strip()\n",
        "print(st)"
      ],
      "execution_count": 0,
      "outputs": [
        {
          "output_type": "stream",
          "text": [
            "영어 문장을 입력하세요:i live\n",
            "I LIVE\n"
          ],
          "name": "stdout"
        }
      ]
    },
    {
      "cell_type": "code",
      "metadata": {
        "id": "PB1EVLGSP0pb",
        "colab_type": "code",
        "outputId": "afb06504-5017-4d3b-9398-85b1d6468d1f",
        "colab": {
          "base_uri": "https://localhost:8080/",
          "height": 53
        }
      },
      "source": [
        "# 문자열 분리, 결합\n",
        "# split() 문자열을 문자로 분리해서 리스트 반환\n",
        "# splitlines() 행 단위로 분리\n",
        "# join() 문자열 합해줌\n",
        "s='I love you'\n",
        "s=s.split(' ')\n",
        "print(s)\n",
        "s='%'\n",
        "s=s.join('파이썬')\n",
        "print(s)"
      ],
      "execution_count": 0,
      "outputs": [
        {
          "output_type": "stream",
          "text": [
            "['I', 'love', 'you']\n",
            "파%이%썬\n"
          ],
          "name": "stdout"
        }
      ]
    },
    {
      "cell_type": "code",
      "metadata": {
        "id": "JjnBckL1Q1AN",
        "colab_type": "code",
        "outputId": "83ad4ca5-4f9f-411f-a30c-c7c0989d627b",
        "colab": {
          "base_uri": "https://localhost:8080/",
          "height": 53
        }
      },
      "source": [
        "# 단어 분리\n",
        "st=input('영어 문장을 입력하세요:')\n",
        "st=st.split(' ')\n",
        "print(st)"
      ],
      "execution_count": 0,
      "outputs": [
        {
          "output_type": "stream",
          "text": [
            "영어 문장을 입력하세요:I love you\n",
            "['I', 'love', 'you']\n"
          ],
          "name": "stdout"
        }
      ]
    },
    {
      "cell_type": "code",
      "metadata": {
        "id": "IHve_2pERHMr",
        "colab_type": "code",
        "outputId": "66f5a8b5-c98a-4996-fed2-8cceecb6fdc3",
        "colab": {
          "base_uri": "https://localhost:8080/",
          "height": 53
        }
      },
      "source": [
        "# 파일 이름을 입력 받아 확장자가 .py이면 'python file'을 출력하고 아니면 'unknown extention'을 출력\n",
        "file=input('파일이름을 입력하시오:')\n",
        "file=file.split('.')\n",
        "if file[-1]=='py':\n",
        "  print('python file')\n",
        "else:\n",
        "  print('unknown extention')"
      ],
      "execution_count": 0,
      "outputs": [
        {
          "output_type": "stream",
          "text": [
            "파일이름을 입력하시오:py.hello\n",
            "unknown extention\n"
          ],
          "name": "stdout"
        }
      ]
    },
    {
      "cell_type": "code",
      "metadata": {
        "id": "KFOMCH-oTDIN",
        "colab_type": "code",
        "outputId": "e26ba0e5-38a5-4bf6-98c5-7f100fd89eb8",
        "colab": {
          "base_uri": "https://localhost:8080/",
          "height": 53
        }
      },
      "source": [
        "# 문장을 입력받은 후 띄어쓰기 기준으로 첫 글자를 따서 줄임말을 만드는 프로그램을 작성하세요.\n",
        "st=input('문장을 입력하세요:')\n",
        "result=\"\"\n",
        "for s in st.split():\n",
        "  result=result+s[0]\n",
        "print(result)"
      ],
      "execution_count": 0,
      "outputs": [
        {
          "output_type": "stream",
          "text": [
            "문장을 입력하세요:비주얼 담당\n",
            "비담\n"
          ],
          "name": "stdout"
        }
      ]
    },
    {
      "cell_type": "code",
      "metadata": {
        "id": "4NNK2C4PzNCl",
        "colab_type": "code",
        "outputId": "852eac1e-6203-4feb-946f-7958c6cd338a",
        "colab": {
          "base_uri": "https://localhost:8080/",
          "height": 125
        }
      },
      "source": [
        "# 문자열 출력하기\n",
        "s='Python is a programming language that lets you word quickly and \\nintegrate systems more effectively.'\n",
        "print(s)\n",
        "s2='\\'Python\\' is a \"programming language\"\\nthat lets you work quickly\\nand\\nintegrate systems more effectively'\n",
        "print(s2)"
      ],
      "execution_count": 0,
      "outputs": [
        {
          "output_type": "stream",
          "text": [
            "Python is a programming language that lets you word quickly and \n",
            "integrate systems more effectively.\n",
            "'Python' is a \"programming language\"\n",
            "that lets you work quickly\n",
            "and\n",
            "integrate systems more effectively\n"
          ],
          "name": "stdout"
        }
      ]
    },
    {
      "cell_type": "code",
      "metadata": {
        "id": "_pjrH5Bn2DT1",
        "colab_type": "code",
        "outputId": "29cdab58-cc49-4c50-db3d-cb74548d7233",
        "colab": {
          "base_uri": "https://localhost:8080/",
          "height": 53
        }
      },
      "source": [
        "s='Daum Kakao'\n",
        "# s를 Kakao Daum으로 바꾸기(슬라이싱, 연결하기)\n",
        "s=s[5:]+s[4]+s[:5]\n",
        "print(s)\n",
        "# 문자열 자르기로 다시 바꾸기\n",
        "l=s.split(' ')\n",
        "s=l[1]+' '+l[0]\n",
        "print(s)"
      ],
      "execution_count": 0,
      "outputs": [
        {
          "output_type": "stream",
          "text": [
            "Kakao Daum \n",
            "Daum Kakao\n"
          ],
          "name": "stdout"
        }
      ]
    },
    {
      "cell_type": "code",
      "metadata": {
        "id": "sXFNKH0Q4O9u",
        "colab_type": "code",
        "outputId": "f1b637f2-3a1d-4f57-a184-369d46eb4442",
        "colab": {
          "base_uri": "https://localhost:8080/",
          "height": 89
        }
      },
      "source": [
        "x='abcdef'\n",
        "x=x[1:]+x[1]\n",
        "print(x)\n",
        "k='hello word'\n",
        "k='hi'+k[6:]\n",
        "print(k)\n",
        "r='aabcadea'\n",
        "print(r.count('a'))\n",
        "z=' 앞 뒤 공백을 제거해보세요 '\n",
        "print(z.strip())"
      ],
      "execution_count": 0,
      "outputs": [
        {
          "output_type": "stream",
          "text": [
            "bcdefb\n",
            "hiword\n",
            "4\n",
            "앞 뒤 공백을 제거해보세요\n"
          ],
          "name": "stdout"
        }
      ]
    },
    {
      "cell_type": "code",
      "metadata": {
        "id": "hGXm6qnG54Tf",
        "colab_type": "code",
        "outputId": "19970f58-2e99-41d9-ad1a-1a001e9f1eee",
        "colab": {
          "base_uri": "https://localhost:8080/",
          "height": 53
        }
      },
      "source": [
        "# 문자열 압축하기\n",
        "s=[]\n",
        "n=[]\n",
        "k=1\n",
        "st=input('문자열을 입력하세요:')\n",
        "for i in range(len(st)):\n",
        "  if i>0 and i+1<len(st):\n",
        "    if st[i-1]==st[i]:\n",
        "      k+=1\n",
        "      if st[i]!=st[i+1]:\n",
        "        n.append(k)\n",
        "        k=1\n",
        "    else:\n",
        "      s.append(st[i])\n",
        "      if st[i]!=st[i+1]:\n",
        "        n.append(1)\n",
        "        k=1\n",
        "  elif i==0:\n",
        "    s.insert(0,st[0])\n",
        "  else:\n",
        "    if st[-1]==st[-2]:\n",
        "      if st[-2]==st[-3]:\n",
        "        n[-1]+=1\n",
        "      else:\n",
        "        n.append(2)\n",
        "    else:\n",
        "      s.append(st[-1])\n",
        "      n.append(1)\n",
        "for i in range(len(n)):\n",
        "  if n[i]==1:\n",
        "    print(s[i],end='')\n",
        "  else:\n",
        "    print(s[i],n[i],sep='',end='')"
      ],
      "execution_count": 0,
      "outputs": [
        {
          "output_type": "stream",
          "text": [
            "문자열을 입력하세요:aaasbbsdgg\n",
            "a3sb2sdg2"
          ],
          "name": "stdout"
        }
      ]
    },
    {
      "cell_type": "code",
      "metadata": {
        "id": "4mHxJPaxJLLc",
        "colab_type": "code",
        "outputId": "53d37361-3d76-4e20-d510-45bc584a6ca0",
        "colab": {
          "base_uri": "https://localhost:8080/",
          "height": 53
        }
      },
      "source": [
        "st=input('문자열을 입력하세요:')\n",
        "result=st[0]\n",
        "count=0\n",
        "for i in st:\n",
        "  if i==result[-1]:\n",
        "    count+=1\n",
        "  else:\n",
        "    result+=str(count)+i\n",
        "    count=1\n",
        "result=result+str(count)\n",
        "result=result.replace('1','')\n",
        "print(result)"
      ],
      "execution_count": 0,
      "outputs": [
        {
          "output_type": "stream",
          "text": [
            "문자열을 입력하세요:aaasbbsdgg\n",
            "a3sb2sdg2\n"
          ],
          "name": "stdout"
        }
      ]
    },
    {
      "cell_type": "code",
      "metadata": {
        "id": "-A0q4dFZKD90",
        "colab_type": "code",
        "outputId": "0ed6b49e-b9ff-430d-b70c-2ed25a196340",
        "colab": {
          "base_uri": "https://localhost:8080/",
          "height": 215
        }
      },
      "source": [
        "st=input('')\n",
        "l_st=st.lower()\n",
        "l_st=l_st.split()\n",
        "l_st=set(l_st)\n",
        "l_st=list(l_st)\n",
        "l_st.sort()\n",
        "for i in l_st:\n",
        "  print(i)"
      ],
      "execution_count": 0,
      "outputs": [
        {
          "output_type": "stream",
          "text": [
            "python is a cool little language Python is fun ha ha ha PYTHON IS VERY USEFUL\n",
            "a\n",
            "cool\n",
            "fun\n",
            "ha\n",
            "is\n",
            "language\n",
            "little\n",
            "python\n",
            "useful\n",
            "very\n"
          ],
          "name": "stdout"
        }
      ]
    },
    {
      "cell_type": "code",
      "metadata": {
        "id": "5Iq7hDBhv9MS",
        "colab_type": "code",
        "colab": {}
      },
      "source": [
        "# True or False\n",
        "# isdigit() 전체가 숫자로만 구성되어 있는가\n",
        "# isalpha() 전체가 글자로만 구성되어 있는가\n",
        "# isalnum() 전체가 글자와 숫자로만 구성되어 있는가\n",
        "# islower() 전체가 소문자로만 구성되어 있는가\n",
        "# isupper() 전체가 대문자로만 구성되어 있는가\n",
        "# isspace() 전체가 공백문자로만 구성되어 있는가"
      ],
      "execution_count": 0,
      "outputs": []
    },
    {
      "cell_type": "code",
      "metadata": {
        "id": "nloCSY_uxQH-",
        "colab_type": "code",
        "outputId": "b2a06879-c739-4a24-905b-9d6eed6cdaa7",
        "colab": {
          "base_uri": "https://localhost:8080/",
          "height": 53
        }
      },
      "source": [
        "# 사용자에게 퀴즈를 내고 대문자가 포함되어 있으면 소문자로만 입력하도록 안내하는 프로그램 작성\n",
        "st=input('정답을 입력하세요:')\n",
        "for i in range(0,len(st),1):\n",
        "  if st[i].isupper():\n",
        "    print('정답은 소문자로만 입력가능합니다.')\n",
        "    break"
      ],
      "execution_count": 0,
      "outputs": [
        {
          "output_type": "stream",
          "text": [
            "정답을 입력하세요:aA\n",
            "정답은 소문자로만 입력가능합니다.\n"
          ],
          "name": "stdout"
        }
      ]
    },
    {
      "cell_type": "code",
      "metadata": {
        "id": "DdtpgJLbxpab",
        "colab_type": "code",
        "outputId": "b27c4a8c-ac7a-4ee9-f82a-f8af1799666c",
        "colab": {
          "base_uri": "https://localhost:8080/",
          "height": 53
        }
      },
      "source": [
        "# 비밀번호를 생성하려고 할 때, 8자리 이상, 영문자와 숫자의 조합으로 생성하도록 안내하는 프로그램 작성.\n",
        "while True:\n",
        "  st=input('비밀번호를 입력하시오:')\n",
        "  if len(st)<8:\n",
        "    print('비밀번호를 8자리 이상입니다.')\n",
        "    continue\n",
        "  if st.isdigit()==True:\n",
        "    print('비밀번호는 영문자와 숫자의 조합입니다.')\n",
        "  elif st.isalpha()==True:\n",
        "    print('비밀번호는 영문자와 숫자의 조합입니다.')\n",
        "  else:\n",
        "    print('비밀번호는',st,'입니다.')\n",
        "    break"
      ],
      "execution_count": 0,
      "outputs": [
        {
          "output_type": "stream",
          "text": [
            "비밀번호를 입력하시오:a8a8a8a8a8a8a\n",
            "비밀번호는 a8a8a8a8a8a8a 입니다.\n"
          ],
          "name": "stdout"
        }
      ]
    }
  ]
}